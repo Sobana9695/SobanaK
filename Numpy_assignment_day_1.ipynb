{
 "cells": [
  {
   "cell_type": "markdown",
   "metadata": {
    "id": "F6px4MSR51Gu"
   },
   "source": [
    "### NumPy Exercises\n",
    "##### Now that we've learned about NumPy let's test your knowledge. We'll start off with a few simple tasks and then you'll be asked some more complicated questions.\n",
    "##### IMPORTANT NOTE! Make sure you don't run the cells directly above the example output shown, otherwise you will end up writing over the example output!"
   ]
  },
  {
   "cell_type": "code",
   "execution_count": 2,
   "metadata": {
    "id": "Qe-tLGBa2sNS"
   },
   "outputs": [],
   "source": [
    "import numpy as np"
   ]
  },
  {
   "cell_type": "markdown",
   "metadata": {
    "id": "TAAoEMyE6bj6"
   },
   "source": [
    "#####1.  Write a NumPy program to create an array of 10 zeros,10 ones, 10 fives."
   ]
  },
  {
   "cell_type": "code",
   "execution_count": 8,
   "metadata": {
    "id": "_BxASjIo6B1X"
   },
   "outputs": [
    {
     "name": "stdout",
     "output_type": "stream",
     "text": [
      "An array of 10 zeros:\n",
      " [0. 0. 0. 0. 0. 0. 0. 0. 0. 0.]\n",
      "An array of 10 ones:\n",
      " [1. 1. 1. 1. 1. 1. 1. 1. 1. 1.]\n",
      "An array of 10 fives:\n",
      " [5. 5. 5. 5. 5. 5. 5. 5. 5. 5.]\n"
     ]
    }
   ],
   "source": [
    "x=np.zeros((10,))\n",
    "print(\"An array of 10 zeros:\\n\",x)\n",
    "y=np.ones((10,))\n",
    "print(\"An array of 10 ones:\\n\",y)\n",
    "z=np.full((10,),5,dtype=float)\n",
    "print(\"An array of 10 fives:\\n\",z)"
   ]
  },
  {
   "cell_type": "markdown",
   "metadata": {
    "id": "6gbrDc0_6ja8"
   },
   "source": [
    "#####2.  Write a NumPy program to create an array of the integers from 30 to 70."
   ]
  },
  {
   "cell_type": "code",
   "execution_count": 16,
   "metadata": {
    "id": "Rrdz7C556B4Y"
   },
   "outputs": [
    {
     "name": "stdout",
     "output_type": "stream",
     "text": [
      "Array of the integers from 30 to70:\n",
      " [30 31 32 33 34 35 36 37 38 39 40 41 42 43 44 45 46 47 48 49 50 51 52 53\n",
      " 54 55 56 57 58 59 60 61 62 63 64 65 66 67 68 69 70]\n"
     ]
    }
   ],
   "source": [
    "a=np.arange(30,71,1)\n",
    "print(\"Array of the integers from 30 to70:\\n\",a)"
   ]
  },
  {
   "cell_type": "markdown",
   "metadata": {
    "id": "-1Z-hSI66oXd"
   },
   "source": [
    "######3. Write a NumPy program to create an array of all the even integers from 10 to 50."
   ]
  },
  {
   "cell_type": "code",
   "execution_count": 17,
   "metadata": {
    "id": "-TwKGj2o6nBV"
   },
   "outputs": [
    {
     "name": "stdout",
     "output_type": "stream",
     "text": [
      "Array of all the even integers from 10 to 50:\n",
      " [10 12 14 16 18 20 22 24 26 28 30 32 34 36 38 40 42 44 46 48]\n"
     ]
    }
   ],
   "source": [
    "b=np.arange(10,50,2)\n",
    "print(\"Array of all the even integers from 10 to 50:\\n\",b)"
   ]
  },
  {
   "cell_type": "markdown",
   "metadata": {
    "id": "av8golKd6z8l"
   },
   "source": [
    "######4. Write a NumPy program to create a 3x3 identity matrix."
   ]
  },
  {
   "cell_type": "code",
   "execution_count": 18,
   "metadata": {
    "id": "A4oaHF5L6nDB"
   },
   "outputs": [
    {
     "name": "stdout",
     "output_type": "stream",
     "text": [
      "3x3 matrix:\n",
      " [[1. 0. 0.]\n",
      " [0. 1. 0.]\n",
      " [0. 0. 1.]]\n"
     ]
    }
   ],
   "source": [
    "c=np.eye(3)\n",
    "print(\"3x3 matrix:\\n\",c)"
   ]
  },
  {
   "cell_type": "markdown",
   "metadata": {
    "id": "bmfuxShM-nvi"
   },
   "source": [
    "##### 5. Write a NumPy program to generate a random number between 0 and 1"
   ]
  },
  {
   "cell_type": "code",
   "execution_count": 23,
   "metadata": {
    "id": "ufPWx-Bo6nFv"
   },
   "outputs": [
    {
     "name": "stdout",
     "output_type": "stream",
     "text": [
      "Random number between 0 and 1:\n",
      " [0.33150968]\n"
     ]
    }
   ],
   "source": [
    "d=np.random.random((1,))\n",
    "print(\"Random number between 0 and 1:\\n\",d)"
   ]
  },
  {
   "cell_type": "markdown",
   "metadata": {
    "id": "hm-lJXi--3px"
   },
   "source": [
    "###### 6. Write a NumPy program to generate an array of 15 random numbers from a standard normal distribution."
   ]
  },
  {
   "cell_type": "code",
   "execution_count": 25,
   "metadata": {
    "id": "tFPEvuTr6nMg"
   },
   "outputs": [
    {
     "name": "stdout",
     "output_type": "stream",
     "text": [
      "15 random numbers from a standard normal distribution:\n",
      " [0.46879632 0.92313555 0.16749379 0.54161467 0.87558403 0.23205264\n",
      " 0.97622778 0.10735915 0.70698104 0.79714693 0.26106858 0.57874405\n",
      " 0.61253921 0.64887688 0.1308899 ]\n"
     ]
    }
   ],
   "source": [
    "e=np.random.random((15,))\n",
    "print(\"15 random numbers from a standard normal distribution:\\n\",e)"
   ]
  },
  {
   "cell_type": "markdown",
   "metadata": {
    "id": "UIMv6m1t_G7q"
   },
   "source": [
    "###### 7. Write a NumPy program to create a 3X4 array using and iterate over it."
   ]
  },
  {
   "cell_type": "code",
   "execution_count": 39,
   "metadata": {
    "id": "WyYvr-ly-7y5"
   },
   "outputs": [
    {
     "name": "stdout",
     "output_type": "stream",
     "text": [
      "Original array:\n",
      " [[10 11 12 13]\n",
      " [14 15 16 17]\n",
      " [18 19 20 21]]\n",
      "Each element of the array is:\n",
      "10 11 12 13 14 15 16 17 18 19 20 21 "
     ]
    }
   ],
   "source": [
    "f=np.arange(10,22).reshape(3,4)\n",
    "print(\"Original array:\\n\",f)\n",
    "print(\"Each element of the array is:\")\n",
    "for y in f:\n",
    "    for z in y:\n",
    "        print(z,end=\" \")        "
   ]
  },
  {
   "cell_type": "markdown",
   "metadata": {
    "id": "pMshtaUT_fT0"
   },
   "source": [
    "###### 8. Write a NumPy program to multiply the values ​​of two given vectors."
   ]
  },
  {
   "cell_type": "code",
   "execution_count": 41,
   "metadata": {
    "id": "hD8Uk9J0_JxY"
   },
   "outputs": [
    {
     "name": "stdout",
     "output_type": "stream",
     "text": [
      "Vector-1:\n",
      " [1 8 3 5]\n",
      "Vector-2:\n",
      " [10  1  4 10]\n",
      "Multiply the values of two said vectors:\n",
      " [10  8 12 50]\n"
     ]
    }
   ],
   "source": [
    "x1=np.array([1,8,3,5])\n",
    "print(\"Vector-1:\\n\",x1)\n",
    "x2=np.array([10,1,4,10])\n",
    "print(\"Vector-2:\\n\",x2)\n",
    "x3=np.multiply(x1,x2)\n",
    "print(\"Multiply the values of two said vectors:\\n\",x3)"
   ]
  },
  {
   "cell_type": "markdown",
   "metadata": {
    "id": "h7ny_Xci_07Q"
   },
   "source": [
    "###### 9. Write a NumPy program to reverse an array (first element becomes last)."
   ]
  },
  {
   "cell_type": "code",
   "execution_count": 66,
   "metadata": {
    "id": "CQZLCU4Z_J0M"
   },
   "outputs": [
    {
     "name": "stdout",
     "output_type": "stream",
     "text": [
      "Original array:\n",
      " [12 13 14 15 16 17 18 19 20 21 22 23 24 25 26 27 28 29 30 31 32 33 34 35\n",
      " 36 37]\n",
      "Reverse array:\n",
      " [37 36 35 34 33 32 31 30 29 28 27 26 25 24 23 22 21 20 19 18 17 16 15 14\n",
      " 13 12]\n"
     ]
    }
   ],
   "source": [
    "p=np.arange(12,38,1)\n",
    "print(\"Original array:\\n\",p)\n",
    "print(\"Reverse array:\\n\",p[::-1])"
   ]
  },
  {
   "cell_type": "markdown",
   "metadata": {
    "id": "-y0LYMweAC3M"
   },
   "source": [
    "##### 10. Write a NumPy program to create a 5x5 zero matrix with elements on the main diagonal equal to 1, 2, 3, 4, 5."
   ]
  },
  {
   "cell_type": "code",
   "execution_count": 67,
   "metadata": {
    "id": "nJnstERf_J5T"
   },
   "outputs": [
    {
     "data": {
      "text/plain": [
       "array([[1, 0, 0, 0, 0],\n",
       "       [0, 2, 0, 0, 0],\n",
       "       [0, 0, 3, 0, 0],\n",
       "       [0, 0, 0, 4, 0],\n",
       "       [0, 0, 0, 0, 5]])"
      ]
     },
     "execution_count": 67,
     "metadata": {},
     "output_type": "execute_result"
    }
   ],
   "source": [
    "np.diag([1,2,3,4,5])"
   ]
  },
  {
   "cell_type": "markdown",
   "metadata": {
    "id": "h7nmiqKNAYH1"
   },
   "source": [
    "###### 11. Write a NumPy program to compute sum of all elements, sum of each column and sum of each row of a given array."
   ]
  },
  {
   "cell_type": "code",
   "execution_count": 61,
   "metadata": {
    "id": "zWHfl9BS_J-a"
   },
   "outputs": [
    {
     "name": "stdout",
     "output_type": "stream",
     "text": [
      "Original array:\n",
      " [[0 1]\n",
      " [2 3]]\n",
      "Sum of all elements:\n",
      " 6\n",
      "Sum of each column:\n",
      " [2 4]\n",
      "Sum of each row:\n",
      " [1 5]\n"
     ]
    }
   ],
   "source": [
    "z1=np.arange(0,4).reshape(2,2)\n",
    "print(\"Original array:\\n\",z1)\n",
    "print(\"Sum of all elements:\\n\",np.sum(z1))\n",
    "a=np.sum(z1,axis=0)\n",
    "print(\"Sum of each column:\\n\",a)\n",
    "b=np.sum(z1,axis=1)\n",
    "print(\"Sum of each row:\\n\",b)"
   ]
  },
  {
   "cell_type": "markdown",
   "metadata": {
    "id": "4JSLT9ImAnKn"
   },
   "source": [
    "###### 12. Write a NumPy program to compute the inner product of two given vectors."
   ]
  },
  {
   "cell_type": "code",
   "execution_count": 50,
   "metadata": {
    "id": "cBGxcHxe_KEt"
   },
   "outputs": [
    {
     "name": "stdout",
     "output_type": "stream",
     "text": [
      "Original vectors:\n",
      "\n",
      "[4 5]\n",
      "[ 7 10]\n",
      "Inner product of said vectors:\n",
      " 78\n"
     ]
    }
   ],
   "source": [
    "print(\"Original vectors:\\n\")\n",
    "y1=np.array([4,5])\n",
    "print(y1)\n",
    "y2=np.array([7,10])\n",
    "print(y2)\n",
    "y3=np.dot(y1,y2)\n",
    "print(\"Inner product of said vectors:\\n\",y3)"
   ]
  }
 ],
 "metadata": {
  "colab": {
   "collapsed_sections": [],
   "name": "Numpy_assignment_day_1.ipynb",
   "provenance": []
  },
  "kernelspec": {
   "display_name": "Python 3 (ipykernel)",
   "language": "python",
   "name": "python3"
  },
  "language_info": {
   "codemirror_mode": {
    "name": "ipython",
    "version": 3
   },
   "file_extension": ".py",
   "mimetype": "text/x-python",
   "name": "python",
   "nbconvert_exporter": "python",
   "pygments_lexer": "ipython3",
   "version": "3.9.12"
  }
 },
 "nbformat": 4,
 "nbformat_minor": 1
}
