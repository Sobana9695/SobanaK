{
 "cells": [
  {
   "cell_type": "markdown",
   "id": "bb223aef",
   "metadata": {},
   "source": [
    "# Task 1"
   ]
  },
  {
   "cell_type": "markdown",
   "id": "a1ee794f",
   "metadata": {},
   "source": [
    "### 1) Write a program to get the data type of a data"
   ]
  },
  {
   "cell_type": "code",
   "execution_count": 4,
   "id": "2c2d3350",
   "metadata": {},
   "outputs": [
    {
     "name": "stdout",
     "output_type": "stream",
     "text": [
      "Enter the number:10\n",
      "Data type of the given data is : <class 'int'>\n"
     ]
    }
   ],
   "source": [
    "var1=int(input(\"Enter the number:\"))\n",
    "print(\"Data type of the given data is :\",type(var1))"
   ]
  },
  {
   "cell_type": "markdown",
   "id": "df059c9d",
   "metadata": {},
   "source": [
    "### 2) Write a program to convert a integer data type to float data type"
   ]
  },
  {
   "cell_type": "code",
   "execution_count": 9,
   "id": "cecab610",
   "metadata": {},
   "outputs": [
    {
     "name": "stdout",
     "output_type": "stream",
     "text": [
      "Enter the number:25\n",
      "float of given integer : 25.0\n"
     ]
    }
   ],
   "source": [
    "var2=int(input(\"Enter the number:\"))\n",
    "print(\"float of given integer :\",float(var2))"
   ]
  },
  {
   "cell_type": "markdown",
   "id": "cd0818d2",
   "metadata": {},
   "source": [
    "### 3) Write a program to convert a integer data type to float data type and vice versa"
   ]
  },
  {
   "cell_type": "code",
   "execution_count": 10,
   "id": "765d3f19",
   "metadata": {},
   "outputs": [
    {
     "name": "stdout",
     "output_type": "stream",
     "text": [
      "Enter the number:12\n",
      "float of given integer : 12.0\n",
      "string of given integer : 12\n",
      "complex of given integer : (12+0j)\n"
     ]
    }
   ],
   "source": [
    "var3=int(input(\"Enter the number:\"))\n",
    "print(\"float of given integer :\",float(var3))\n",
    "print(\"string of given integer :\",str(var3))\n",
    "print(\"complex of given integer :\",complex(var3))"
   ]
  },
  {
   "cell_type": "markdown",
   "id": "4e2443ef",
   "metadata": {},
   "source": [
    "### 4) Write a programme to get the actual location of the data"
   ]
  },
  {
   "cell_type": "code",
   "execution_count": 12,
   "id": "f0b59e61",
   "metadata": {},
   "outputs": [
    {
     "name": "stdout",
     "output_type": "stream",
     "text": [
      "The actual location of a is : 2\n"
     ]
    }
   ],
   "source": [
    "a=[1,2,\"a\",\"b\",\"c\"]\n",
    "print(\"The actual location of a is :\",a.index(\"a\"))"
   ]
  },
  {
   "cell_type": "markdown",
   "id": "0aa86b32",
   "metadata": {},
   "source": [
    "### 5) Give an example of implict conversion and explict conversion "
   ]
  },
  {
   "cell_type": "code",
   "execution_count": 25,
   "id": "5bcfbfab",
   "metadata": {},
   "outputs": [
    {
     "name": "stdout",
     "output_type": "stream",
     "text": [
      "sum of a and b is : (3.1+4j)\n"
     ]
    }
   ],
   "source": [
    "# Implicit conversion-Python interpreter converts one data type to another data type automatically \n",
    "a=1.1\n",
    "b=2+4j\n",
    "print(\"sum of a and b is :\",a+b)"
   ]
  },
  {
   "cell_type": "code",
   "execution_count": 26,
   "id": "2e699b9b",
   "metadata": {},
   "outputs": [
    {
     "name": "stdout",
     "output_type": "stream",
     "text": [
      "('a', 'b', 'c', 'd', 'e')\n"
     ]
    }
   ],
   "source": [
    "# Explicit conversion-When user or we converts one data type to another data type\n",
    "x=\"abcde\"\n",
    "print(tuple(x))"
   ]
  },
  {
   "cell_type": "markdown",
   "id": "cccfd0ac",
   "metadata": {},
   "source": [
    "### 6) Write a programme to prove that python is a case senstive language"
   ]
  },
  {
   "cell_type": "code",
   "execution_count": 16,
   "id": "8e939e56",
   "metadata": {},
   "outputs": [
    {
     "ename": "NameError",
     "evalue": "name 'User_name' is not defined",
     "output_type": "error",
     "traceback": [
      "\u001b[1;31m---------------------------------------------------------------------------\u001b[0m",
      "\u001b[1;31mNameError\u001b[0m                                 Traceback (most recent call last)",
      "Input \u001b[1;32mIn [16]\u001b[0m, in \u001b[0;36m<cell line: 2>\u001b[1;34m()\u001b[0m\n\u001b[0;32m      1\u001b[0m user_name\u001b[38;5;241m=\u001b[39m\u001b[38;5;124m'\u001b[39m\u001b[38;5;124msobana\u001b[39m\u001b[38;5;124m'\u001b[39m\n\u001b[1;32m----> 2\u001b[0m \u001b[38;5;28mprint\u001b[39m(\u001b[43mUser_name\u001b[49m)\n",
      "\u001b[1;31mNameError\u001b[0m: name 'User_name' is not defined"
     ]
    }
   ],
   "source": [
    "user_name='sobana'\n",
    "print(User_name)      "
   ]
  },
  {
   "cell_type": "markdown",
   "id": "b7240bca",
   "metadata": {},
   "source": [
    "### 7) Write a programme to get a syntax error"
   ]
  },
  {
   "cell_type": "code",
   "execution_count": 17,
   "id": "e0e2feb3",
   "metadata": {},
   "outputs": [
    {
     "ename": "SyntaxError",
     "evalue": "invalid syntax (4047966703.py, line 2)",
     "output_type": "error",
     "traceback": [
      "\u001b[1;36m  Input \u001b[1;32mIn [17]\u001b[1;36m\u001b[0m\n\u001b[1;33m    if z%7==0\u001b[0m\n\u001b[1;37m             ^\u001b[0m\n\u001b[1;31mSyntaxError\u001b[0m\u001b[1;31m:\u001b[0m invalid syntax\n"
     ]
    }
   ],
   "source": [
    "z=int(input(\"Enter the number:\"))\n",
    "if z%7==0\n",
    "    print(\"Number is divisible by 7\")\n",
    "else:\n",
    "    print(\"Number is not divisible by 7\")"
   ]
  },
  {
   "cell_type": "markdown",
   "id": "476a42dc",
   "metadata": {},
   "source": [
    "### 8) Write a programme to get a type error"
   ]
  },
  {
   "cell_type": "code",
   "execution_count": 20,
   "id": "05c3a03c",
   "metadata": {},
   "outputs": [
    {
     "ename": "TypeError",
     "evalue": "index() takes at least 1 argument (0 given)",
     "output_type": "error",
     "traceback": [
      "\u001b[1;31m---------------------------------------------------------------------------\u001b[0m",
      "\u001b[1;31mTypeError\u001b[0m                                 Traceback (most recent call last)",
      "Input \u001b[1;32mIn [20]\u001b[0m, in \u001b[0;36m<cell line: 2>\u001b[1;34m()\u001b[0m\n\u001b[0;32m      1\u001b[0m x\u001b[38;5;241m=\u001b[39m\u001b[38;5;124m\"\u001b[39m\u001b[38;5;124mabcdef\u001b[39m\u001b[38;5;124m\"\u001b[39m      \n\u001b[1;32m----> 2\u001b[0m \u001b[43mx\u001b[49m\u001b[38;5;241;43m.\u001b[39;49m\u001b[43mindex\u001b[49m\u001b[43m(\u001b[49m\u001b[43m)\u001b[49m\n",
      "\u001b[1;31mTypeError\u001b[0m: index() takes at least 1 argument (0 given)"
     ]
    }
   ],
   "source": [
    "x=\"abcdef\"      \n",
    "x.index()"
   ]
  },
  {
   "cell_type": "markdown",
   "id": "718ca190",
   "metadata": {},
   "source": [
    "### 9) Give an example of mulitple statement in a single line"
   ]
  },
  {
   "cell_type": "code",
   "execution_count": 21,
   "id": "0f774ede",
   "metadata": {},
   "outputs": [
    {
     "data": {
      "text/plain": [
       "15"
      ]
     },
     "execution_count": 21,
     "metadata": {},
     "output_type": "execute_result"
    }
   ],
   "source": [
    "1+2 ; 3+5 ; 6+9"
   ]
  },
  {
   "cell_type": "markdown",
   "id": "88b31105",
   "metadata": {},
   "source": [
    "### 10) Give an example of single line statement in multiple line"
   ]
  },
  {
   "cell_type": "code",
   "execution_count": 23,
   "id": "fb17d097",
   "metadata": {},
   "outputs": [
    {
     "data": {
      "text/plain": [
       "3"
      ]
     },
     "execution_count": 23,
     "metadata": {},
     "output_type": "execute_result"
    }
   ],
   "source": [
    "1\\\n",
    "+\\\n",
    "2"
   ]
  }
 ],
 "metadata": {
  "kernelspec": {
   "display_name": "Python 3 (ipykernel)",
   "language": "python",
   "name": "python3"
  },
  "language_info": {
   "codemirror_mode": {
    "name": "ipython",
    "version": 3
   },
   "file_extension": ".py",
   "mimetype": "text/x-python",
   "name": "python",
   "nbconvert_exporter": "python",
   "pygments_lexer": "ipython3",
   "version": "3.9.12"
  }
 },
 "nbformat": 4,
 "nbformat_minor": 5
}
