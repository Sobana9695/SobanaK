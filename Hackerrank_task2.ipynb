{
 "cells": [
  {
   "cell_type": "markdown",
   "id": "82fadf2e",
   "metadata": {},
   "source": [
    "# 1.print an array of the elements that do not sum to n=3 hackerrank"
   ]
  },
  {
   "cell_type": "code",
   "execution_count": 1,
   "id": "2f68f3b3",
   "metadata": {},
   "outputs": [
    {
     "name": "stdout",
     "output_type": "stream",
     "text": [
      "1\n",
      "1\n",
      "2\n",
      "1\n",
      "[[0, 0, 0], [0, 0, 2], [0, 1, 1], [0, 1, 2], [1, 0, 1], [1, 0, 2], [1, 1, 0], [1, 1, 1], [1, 1, 2]]\n"
     ]
    }
   ],
   "source": [
    "if __name__ == '__main__':\n",
    "    x = int(input())\n",
    "    y = int(input())\n",
    "    z = int(input())\n",
    "    n = int(input()) \n",
    "    lists = []\n",
    "    \n",
    "    for i in range(x+1):\n",
    "        for j in range(y+1):\n",
    "            for k in range(z+1):\n",
    "                if (i+j+k)!=n:\n",
    "                    lists.append([i,j,k])\n",
    "                \n",
    "                    \n",
    "    print(lists)"
   ]
  },
  {
   "cell_type": "markdown",
   "id": "70eb6e61",
   "metadata": {},
   "source": [
    "# 2.Given the participants' score sheet for your University Sports Day, you are required to find the runner-up score. You are given  scores. Store them in a list and find the score of the runner-up."
   ]
  },
  {
   "cell_type": "code",
   "execution_count": 3,
   "id": "420e5594",
   "metadata": {},
   "outputs": [
    {
     "name": "stdout",
     "output_type": "stream",
     "text": [
      "5\n",
      "2 3 5 5 6\n",
      "5\n"
     ]
    }
   ],
   "source": [
    "if __name__ == '__main__':\n",
    "    n = int(input())\n",
    "    arr = map(int, input().split())\n",
    "    arr2 = list(set(arr))\n",
    "    arr2.sort()\n",
    "    print(arr2[-2])     "
   ]
  },
  {
   "cell_type": "markdown",
   "id": "e273e6a8",
   "metadata": {},
   "source": [
    "# Given the names and grades for each student in a class of  students, store them in a nested list and print the name(s) of any student(s) having the second lowest grade."
   ]
  },
  {
   "cell_type": "code",
   "execution_count": 8,
   "id": "4c104b6c",
   "metadata": {},
   "outputs": [
    {
     "name": "stdout",
     "output_type": "stream",
     "text": [
      "2\n",
      "soba\n",
      "34.5\n",
      "dev\n",
      "45.6\n",
      "dev\n"
     ]
    }
   ],
   "source": [
    "if __name__ == '__main__':\n",
    "    num = []\n",
    "    arr = []\n",
    "    for i in range(int(input())):\n",
    "        name = input()\n",
    "        score = float(input())\n",
    "        arr.append([name, score])\n",
    "        num.append(score)\n",
    "        \n",
    "    num.sort()\n",
    "    second_min = 0\n",
    "    mini = num[0]\n",
    "    arr.sort()\n",
    "    for i in num:\n",
    "        if i != mini:\n",
    "            second_min = i\n",
    "            break\n",
    "    \n",
    "    for i in arr:\n",
    "        if i[1] == second_min:\n",
    "\n",
    "            print(i[0])     "
   ]
  },
  {
   "cell_type": "markdown",
   "id": "68c4cf41",
   "metadata": {},
   "source": [
    "# The provided code stub will read in a dictionary containing key/value pairs of name:[marks] for a list of students. Print the average of the marks array for the student name provided, showing 2 places after the decimal."
   ]
  },
  {
   "cell_type": "code",
   "execution_count": 14,
   "id": "a5ebb359",
   "metadata": {},
   "outputs": [
    {
     "name": "stdout",
     "output_type": "stream",
     "text": [
      "2\n",
      "dev 20 30\n",
      "siva 30 40\n",
      "siva\n",
      "35.00\n"
     ]
    }
   ],
   "source": [
    "if __name__ == '__main__':\n",
    "    n = int(input())\n",
    "    student_marks = {}\n",
    "    for i in range(n):\n",
    "        name, *line = input().split()\n",
    "        scores = list(map(float, line))\n",
    "        student_marks[name] = scores\n",
    "    query_name = input()\n",
    "    x = student_marks[query_name]\n",
    "    avg = sum(x)/len(x)\n",
    "    print(\"%.2f\" % avg)"
   ]
  },
  {
   "cell_type": "markdown",
   "id": "ca1f65a3",
   "metadata": {},
   "source": [
    "# Insert,append in list"
   ]
  },
  {
   "cell_type": "code",
   "execution_count": null,
   "id": "63f20b03",
   "metadata": {},
   "outputs": [],
   "source": [
    "if __name__ == '__main__':\n",
    "    N = int(input())\n",
    "    l = []\n",
    "    for i in range(N):\n",
    "        s = list(input().split())\n",
    "        if s[0]=='insert':\n",
    "            l.insert(int(s[1]),int(s[2]))\n",
    "        if s[0]=='remove':\n",
    "            l.remove(int(s[1]))\n",
    "        if s[0]=='append':\n",
    "            l.append(int(s[1]))\n",
    "        if s[0]=='sort':\n",
    "            l.sort()\n",
    "        if s[0]=='pop':\n",
    "            l.pop()\n",
    "        if s[0]=='reverse':\n",
    "            l.reverse()     \n",
    "        if s[0]=='print':\n",
    "            print(l)"
   ]
  },
  {
   "cell_type": "markdown",
   "id": "e204ce13",
   "metadata": {},
   "source": [
    "# Given an integer, , and  space-separated integers as input, create a tuple, , of those  integers. Then compute and print the result of hash(t) "
   ]
  },
  {
   "cell_type": "code",
   "execution_count": 7,
   "id": "be6c51d1",
   "metadata": {},
   "outputs": [
    {
     "name": "stdout",
     "output_type": "stream",
     "text": [
      "2\n",
      "1 2\n",
      "-3550055125485641917\n"
     ]
    }
   ],
   "source": [
    "if __name__ == '__main__':\n",
    "    n = int(input())\n",
    "    integer_list = map(int, input().split())\n",
    "    print(hash(tuple(integer_list)))"
   ]
  },
  {
   "cell_type": "markdown",
   "id": "f4757dd2",
   "metadata": {},
   "source": [
    "# the set containing the distinct heights. Using the sum() and len() functions, we can compute the average."
   ]
  },
  {
   "cell_type": "code",
   "execution_count": 8,
   "id": "4469dfbf",
   "metadata": {},
   "outputs": [
    {
     "name": "stdout",
     "output_type": "stream",
     "text": [
      "5\n",
      "161 176 186 197 175\n",
      "179.0\n"
     ]
    }
   ],
   "source": [
    "def average(array):\n",
    "    s=set(array)\n",
    "    return sum(s)/len(s)\n",
    "\n",
    "if __name__ == '__main__':\n",
    "    n = int(input())\n",
    "    arr = list(map(int, input().split()))\n",
    "    result = average(arr)\n",
    "    print(result)"
   ]
  },
  {
   "cell_type": "markdown",
   "id": "94d99074",
   "metadata": {},
   "source": [
    "# You gain 1 unit of happiness for elements  and  in set . You lose  unit for  in set . The element  in set  does not exist in the array so it is not included in the calculation"
   ]
  },
  {
   "cell_type": "code",
   "execution_count": 2,
   "id": "b2a4f963",
   "metadata": {},
   "outputs": [
    {
     "name": "stdout",
     "output_type": "stream",
     "text": [
      "3 2\n",
      "1 5 3\n",
      "3 1\n",
      "5 7\n",
      "1\n"
     ]
    }
   ],
   "source": [
    "# taking input\n",
    "n, m = input().split()\n",
    "sc_ar = input().split()\n",
    "\n",
    "# converting to set\n",
    "A = set(input().split())\n",
    "B = set(input().split())\n",
    "\n",
    "# printing using list comprehension\n",
    "print (sum([(i in A) - (i in B) for i in sc_ar]))"
   ]
  },
  {
   "cell_type": "markdown",
   "id": "50066b6e",
   "metadata": {},
   "source": [
    "# symmetric difference"
   ]
  },
  {
   "cell_type": "code",
   "execution_count": 1,
   "id": "f5458f35",
   "metadata": {},
   "outputs": [
    {
     "name": "stdout",
     "output_type": "stream",
     "text": [
      "4\n",
      "2 4 5 9\n",
      "4\n",
      "2 4 11 12\n",
      "5\n",
      "9\n",
      "11\n",
      "12\n"
     ]
    }
   ],
   "source": [
    "a,b = [set(input().split()) for i in range(4)][1::2]\n",
    "print('\\n'.join(sorted(a^b, key=int)))"
   ]
  },
  {
   "cell_type": "markdown",
   "id": "bc651dd0",
   "metadata": {},
   "source": [
    "# Find the total number of distinct country stamps."
   ]
  },
  {
   "cell_type": "code",
   "execution_count": 4,
   "id": "7e7ab4e9",
   "metadata": {},
   "outputs": [
    {
     "name": "stdout",
     "output_type": "stream",
     "text": [
      "7\n",
      "usa\n",
      "uk\n",
      "usa\n",
      "india\n",
      "japan\n",
      "russia\n",
      "australia\n",
      "6\n"
     ]
    }
   ],
   "source": [
    "n=int(input())\n",
    "countries=[]\n",
    "for i in range(n):\n",
    "    countries.append(input())\n",
    "print(len(set(countries))) "
   ]
  },
  {
   "cell_type": "markdown",
   "id": "322597a3",
   "metadata": {},
   "source": [
    "# set discard,remove"
   ]
  },
  {
   "cell_type": "code",
   "execution_count": null,
   "id": "e76bd746",
   "metadata": {},
   "outputs": [],
   "source": [
    "n=int(input())\n",
    "s=set(map(int,input().split()))\n",
    "num = int(input())\n",
    "for i in range(num):\n",
    "    ip = input().split()\n",
    "    if ip[0]==\"remove\":\n",
    "        s.remove(int(ip[1]))\n",
    "    elif ip[0]==\"discard\":\n",
    "        s.discard(int(ip[1]))\n",
    "    else :\n",
    "        s.pop()\n",
    "print(sum(list(s)))"
   ]
  },
  {
   "cell_type": "markdown",
   "id": "7c64a773",
   "metadata": {},
   "source": [
    "# the total number of students who have at least one subscription."
   ]
  },
  {
   "cell_type": "code",
   "execution_count": null,
   "id": "2b3b46f1",
   "metadata": {},
   "outputs": [],
   "source": [
    "n=int(input())\n",
    "l1=list(input().split())\n",
    "n1=int(input())\n",
    "l2=list(input().split())\n",
    "s1=set(l1)\n",
    "s2=set(l2)\n",
    "print(len(s1.union(s2)))"
   ]
  },
  {
   "cell_type": "markdown",
   "id": "c55e3545",
   "metadata": {},
   "source": [
    "# intersection"
   ]
  },
  {
   "cell_type": "code",
   "execution_count": null,
   "id": "f99eea0c",
   "metadata": {},
   "outputs": [],
   "source": [
    "n=int(input())\n",
    "l1=list(input().split())\n",
    "n1=int(input())\n",
    "l2=list(input().split())\n",
    "s1=set(l1)\n",
    "s2=set(l2)\n",
    "print(len(s1.union(s2)))"
   ]
  },
  {
   "cell_type": "markdown",
   "id": "b16c46ec",
   "metadata": {},
   "source": [
    "# Difference"
   ]
  },
  {
   "cell_type": "code",
   "execution_count": null,
   "id": "65096c70",
   "metadata": {},
   "outputs": [],
   "source": [
    "n=int(input())\n",
    "l1=list(input().split())\n",
    "n1=int(input())\n",
    "l2=list(input().split())\n",
    "s1=set(l1)\n",
    "s2=set(l2)\n",
    "print(len(s1.difference(s2)))"
   ]
  },
  {
   "cell_type": "markdown",
   "id": "5b45fe4b",
   "metadata": {},
   "source": [
    "# Symmetric_difference"
   ]
  },
  {
   "cell_type": "code",
   "execution_count": null,
   "id": "68b5cc86",
   "metadata": {},
   "outputs": [],
   "source": [
    "n=int(input())\n",
    "l1=list(input().split())\n",
    "n1=int(input())\n",
    "l2=list(input().split())\n",
    "s1=set(l1)\n",
    "s2=set(l2)\n",
    "print(len(s1.symmetric_difference(s2)))"
   ]
  },
  {
   "cell_type": "markdown",
   "id": "bf40b93d",
   "metadata": {},
   "source": [
    "# set mutation"
   ]
  },
  {
   "cell_type": "code",
   "execution_count": null,
   "id": "8d2ca11b",
   "metadata": {},
   "outputs": [],
   "source": [
    "set1 = int(input())\n",
    "\n",
    "st = set(map(int, input().split()))\n",
    "\n",
    "op_len = int(input())\n",
    "\n",
    "for i in range(op_len):\n",
    "    operation = input().split()\n",
    "    if operation[0] == 'intersection_update':\n",
    "        temp_storage = set(map(int, input().split()))\n",
    "        st.intersection_update(temp_storage)\n",
    "    elif operation[0] == 'update':\n",
    "        temp_storage = set(map(int, input().split()))\n",
    "        st.update(temp_storage)\n",
    "    elif operation[0] == 'symmetric_difference_update':\n",
    "        temp_storage = set(map(int, input().split()))\n",
    "        st.symmetric_difference_update(temp_storage)\n",
    "    elif operation[0] == 'difference_update':\n",
    "        temp_storage = set(map(int, input().split()))\n",
    "        st.difference_update(temp_storage)\n",
    "    \n",
    "print(sum(st))"
   ]
  },
  {
   "cell_type": "markdown",
   "id": "a45b1e1c",
   "metadata": {},
   "source": [
    "# Captain's room number"
   ]
  },
  {
   "cell_type": "code",
   "execution_count": null,
   "id": "d298b98e",
   "metadata": {},
   "outputs": [],
   "source": [
    "if __name__ == '__main__':\n",
    "    k = int(input())\n",
    "    rooms = list(map(int, input().split()))\n",
    "    roomSet = set(rooms)\n",
    "    roomSum = sum(rooms)\n",
    "    roomSetSum = sum(roomSet) * k\n",
    "    captiansRoom = (roomSetSum - roomSum) // (k - 1)\n",
    "    print(captiansRoom)"
   ]
  },
  {
   "cell_type": "markdown",
   "id": "42456233",
   "metadata": {},
   "source": [
    "# check subset"
   ]
  },
  {
   "cell_type": "code",
   "execution_count": null,
   "id": "07b300b4",
   "metadata": {},
   "outputs": [],
   "source": [
    "for i in range(int(input())):\n",
    "    x, a, z, b = input(), set(input().split()), input(), set(input().split())\n",
    "    print(a.issubset(b))"
   ]
  },
  {
   "cell_type": "markdown",
   "id": "ec856222",
   "metadata": {},
   "source": [
    "# check strict superset"
   ]
  },
  {
   "cell_type": "code",
   "execution_count": null,
   "id": "6b774a44",
   "metadata": {},
   "outputs": [],
   "source": [
    "def isstrictsuperset(a,b):\n",
    "    \n",
    "    return b.issubset(a) and not(a.issubset(b))\n",
    "\n",
    "a = set(int(x) for x in input().split(' '))\n",
    "n = int(input())\n",
    "res = True\n",
    "\n",
    "for i in range(n):\n",
    "    b = set(int(x) for x in input().split(' '))\n",
    "    res &= isstrictsuperset(a,b)\n",
    "    \n",
    "print(res)"
   ]
  }
 ],
 "metadata": {
  "kernelspec": {
   "display_name": "Python 3 (ipykernel)",
   "language": "python",
   "name": "python3"
  },
  "language_info": {
   "codemirror_mode": {
    "name": "ipython",
    "version": 3
   },
   "file_extension": ".py",
   "mimetype": "text/x-python",
   "name": "python",
   "nbconvert_exporter": "python",
   "pygments_lexer": "ipython3",
   "version": "3.9.13"
  }
 },
 "nbformat": 4,
 "nbformat_minor": 5
}
