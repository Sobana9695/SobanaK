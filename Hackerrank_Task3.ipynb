{
 "cells": [
  {
   "cell_type": "markdown",
   "id": "9e1b52da",
   "metadata": {},
   "source": [
    "# Polar coordinates"
   ]
  },
  {
   "cell_type": "code",
   "execution_count": null,
   "id": "a7bfd169",
   "metadata": {},
   "outputs": [],
   "source": [
    "import cmath\n",
    "print(*cmath.polar(complex(input())), sep='\\n')"
   ]
  },
  {
   "cell_type": "markdown",
   "id": "36686600",
   "metadata": {},
   "source": [
    "# Mode divmode"
   ]
  },
  {
   "cell_type": "code",
   "execution_count": null,
   "id": "a1e465fe",
   "metadata": {},
   "outputs": [],
   "source": [
    "print('{0}\\n{1}\\n({0}, {1})'.format(*divmod(int(input()), int(input()))))"
   ]
  },
  {
   "cell_type": "markdown",
   "id": "2d439ca1",
   "metadata": {},
   "source": [
    "# mode powermode"
   ]
  },
  {
   "cell_type": "code",
   "execution_count": null,
   "id": "de4410bb",
   "metadata": {},
   "outputs": [],
   "source": [
    "a,b,m = [int(input()) for _ in '123']\n",
    "print(pow(a,b),pow(a,b,m),sep='\\n')"
   ]
  }
 ],
 "metadata": {
  "kernelspec": {
   "display_name": "Python 3 (ipykernel)",
   "language": "python",
   "name": "python3"
  },
  "language_info": {
   "codemirror_mode": {
    "name": "ipython",
    "version": 3
   },
   "file_extension": ".py",
   "mimetype": "text/x-python",
   "name": "python",
   "nbconvert_exporter": "python",
   "pygments_lexer": "ipython3",
   "version": "3.9.13"
  }
 },
 "nbformat": 4,
 "nbformat_minor": 5
}
