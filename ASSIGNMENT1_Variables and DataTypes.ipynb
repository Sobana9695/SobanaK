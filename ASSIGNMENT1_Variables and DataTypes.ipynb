{
 "cells": [
  {
   "cell_type": "markdown",
   "metadata": {},
   "source": [
    "# Assignment Instructions\n",
    "\n",
    "`Hello Innominion,`\n",
    "\n",
    "- **Try to attempt all the questions in every possible way.**\n",
    "- **Some other topics are required to solve some questions. don't panic.**\n",
    "- **Those questions can be answered after the topics are taught.**\n",
    "\n",
    "\n",
    "- `Join Mentoring Session for the Support/Doubts Resolving with Our Technical Mentors (2.00 PM - 6.00 PM  Mon-Sat)` \n",
    "\n",
    "Happy Learning !!!"
   ]
  },
  {
   "cell_type": "markdown",
   "metadata": {},
   "source": [
    "## Basics of Python"
   ]
  },
  {
   "cell_type": "markdown",
   "metadata": {},
   "source": [
    "> `Question:` Print your name"
   ]
  },
  {
   "cell_type": "code",
   "execution_count": 1,
   "metadata": {},
   "outputs": [
    {
     "name": "stdout",
     "output_type": "stream",
     "text": [
      "Print your name:Innomatics\n",
      "My name is Innomatics\n"
     ]
    }
   ],
   "source": [
    "name=input(\"Print your name:\")\n",
    "my_bio=\"My name is {}\".format(name)\n",
    "print(my_bio)"
   ]
  },
  {
   "cell_type": "markdown",
   "metadata": {},
   "source": [
    "> `Question:` What is a variable? Write a Few words about Variables. Create a Variable with an Example. "
   ]
  },
  {
   "cell_type": "code",
   "execution_count": 4,
   "metadata": {},
   "outputs": [],
   "source": [
    "#        Variables are containers for storing data values.They take memory space based on the type of value we assigning to them.\n",
    "The name of the variable must always start with either a letter or an underscore(_),for ex.num,_num.It cannot start with a \n",
    "number,for ex.9num and cannot have special characters such as %,$,@,# etc.Variable name is case sensitive."
   ]
  },
  {
   "cell_type": "code",
   "execution_count": null,
   "metadata": {},
   "outputs": [],
   "source": [
    "Ex.     num=10"
   ]
  },
  {
   "cell_type": "markdown",
   "metadata": {},
   "source": [
    ">`Question:` Assume that we execute the following assignment statements:\n",
    "width = 17\n",
    "height = 12.0\n",
    "delimiter = '.'\n",
    "For each of the following expressions, write the value of the expression and the type (of the value of\n",
    "the expression).\n",
    "1. width/2\n",
    "2. width/2.0\n",
    "3. height/3\n",
    "4. 1 + 2 * 5\n",
    "5. delimiter * 5"
   ]
  },
  {
   "cell_type": "code",
   "execution_count": 1,
   "metadata": {},
   "outputs": [
    {
     "name": "stdout",
     "output_type": "stream",
     "text": [
      "data type of a is : <class 'float'>\n",
      "data type of b is : <class 'float'>\n",
      "data type of c is : <class 'float'>\n",
      "11\n",
      "width1 is 8.5,width2 is 8.5,height is 4.0\n"
     ]
    }
   ],
   "source": [
    "width=17\n",
    "height=12.0\n",
    "a=width/2\n",
    "print(\"data type of a is :\",type(a))\n",
    "b=width/2.0\n",
    "print(\"data type of b is :\",type(b))\n",
    "c=height/3\n",
    "print(\"data type of c is :\",type(c))\n",
    "print(1+2*5)\n",
    "area=\"width1 is {0},width2 is {1},height is {2}\".format(a,b,c)\n",
    "print(area)"
   ]
  },
  {
   "cell_type": "markdown",
   "metadata": {},
   "source": [
    "> `Question:` Add two number by taking variable names as first and seccond"
   ]
  },
  {
   "cell_type": "code",
   "execution_count": 3,
   "metadata": {},
   "outputs": [
    {
     "name": "stdout",
     "output_type": "stream",
     "text": [
      "first number is:100\n",
      "second number is:200\n",
      "Addition of two numbers are: 300\n"
     ]
    }
   ],
   "source": [
    "var1 = int(input(\"first number is:\"))\n",
    "var2 = int(input(\"second number is:\"))\n",
    "sum=var1+var2\n",
    "print(\"Addition of two numbers are:\",sum)  "
   ]
  },
  {
   "cell_type": "markdown",
   "metadata": {},
   "source": [
    "> `Question:` Add your first name and second name"
   ]
  },
  {
   "cell_type": "code",
   "execution_count": 2,
   "metadata": {},
   "outputs": [
    {
     "name": "stdout",
     "output_type": "stream",
     "text": [
      "My first name is:Sachin\n",
      "My second name is:Tendulkar\n",
      "My full name is: Sachin Tendulkar\n"
     ]
    }
   ],
   "source": [
    "x=input(\"My first name is:\")\n",
    "y=input(\"My second name is:\")\n",
    "print(\"My full name is:\", x,y,sep=\" \")"
   ]
  },
  {
   "cell_type": "markdown",
   "metadata": {},
   "source": [
    "> `Question:` print the datatypes of the following\n",
    "- 10,'10',True,10.5"
   ]
  },
  {
   "cell_type": "code",
   "execution_count": 1,
   "metadata": {},
   "outputs": [
    {
     "name": "stdout",
     "output_type": "stream",
     "text": [
      "Data type of 10 is : <class 'int'>\n",
      "Data type of 10 is : <class 'str'>\n",
      "Data type of var3 is : <class 'bool'>\n",
      "Data type of z is : <class 'float'>\n"
     ]
    }
   ],
   "source": [
    "x=10\n",
    "print(\"Data type of\",10,\"is :\",type(x))\n",
    "y='10'\n",
    "print(\"Data type of 10 is :\",type(y))\n",
    "var3=True\n",
    "print(\"Data type of var3 is :\",type(var3))\n",
    "z=10.5\n",
    "print(\"Data type of z is :\",type(z))"
   ]
  },
  {
   "cell_type": "markdown",
   "metadata": {},
   "source": [
    " `Question:` \n",
    "> - num_int = 123\n",
    "> - num_str = \"456\"\n",
    "> - Add num_int and num_str\n",
    "- `hint: first need to convert num_str into integer`"
   ]
  },
  {
   "cell_type": "code",
   "execution_count": 3,
   "metadata": {},
   "outputs": [
    {
     "name": "stdout",
     "output_type": "stream",
     "text": [
      "579\n"
     ]
    }
   ],
   "source": [
    "num=123\n",
    "another_num='456'\n",
    "print(num + int(another_num))"
   ]
  },
  {
   "cell_type": "markdown",
   "metadata": {},
   "source": [
    "### Advanced Questions"
   ]
  },
  {
   "cell_type": "markdown",
   "metadata": {},
   "source": [
    "> `Question:` The volume of a sphere with radius r is  4/3πr3  . What is the volume of a sphere with radius 5?"
   ]
  },
  {
   "cell_type": "code",
   "execution_count": 7,
   "metadata": {},
   "outputs": [
    {
     "name": "stdout",
     "output_type": "stream",
     "text": [
      "Enter the radius:5\n",
      "volume of the sphere is: 523.8095238095239\n"
     ]
    }
   ],
   "source": [
    "r=int(input(\"Enter the radius:\"))\n",
    "x=4.0/3.0*22/7.0* r**3\n",
    "print(\"volume of the sphere is:\",x)"
   ]
  },
  {
   "cell_type": "markdown",
   "metadata": {},
   "source": [
    "> `Question:` Suppose the cover price of a book is Rs.24.95, but bookstores get a 40% discount. Shipping costs Rs.3 for the first copy and 75 paise for each additional copy. What is the total wholesale cost for 60 copies?"
   ]
  },
  {
   "cell_type": "code",
   "execution_count": 8,
   "metadata": {},
   "outputs": [
    {
     "name": "stdout",
     "output_type": "stream",
     "text": [
      "discount price: 9.98\n",
      "selling price: 14.969999999999999\n",
      "total price of 60 copies: 898.1999999999999\n",
      "shipping cost of 60 copies: 47.25\n",
      "Total wholesale cost for 60 copies is: 945.4499999999999\n"
     ]
    }
   ],
   "source": [
    "Price=float(24.95)\n",
    "discount=Price * 0.40\n",
    "print(\"discount price:\",discount)\n",
    "sp=Price - discount\n",
    "print(\"selling price:\",sp)\n",
    "totalsp=sp*60\n",
    "print(\"total price of 60 copies:\",totalsp)\n",
    "shipping_1=3\n",
    "shipping_59=0.75\n",
    "shipping_60=3+(59*0.75)\n",
    "print(\"shipping cost of 60 copies:\",shipping_60)\n",
    "Total=(totalsp+shipping_60)\n",
    "print(\"Total wholesale cost for 60 copies is:\",Total)"
   ]
  },
  {
   "cell_type": "markdown",
   "metadata": {},
   "source": [
    "# [Innomatics Research Labs](https:/innomatics.in/)\n",
    "[www.innomatics.in](https:/innomatics.in/)"
   ]
  }
 ],
 "metadata": {
  "kernelspec": {
   "display_name": "Python 3 (ipykernel)",
   "language": "python",
   "name": "python3"
  },
  "language_info": {
   "codemirror_mode": {
    "name": "ipython",
    "version": 3
   },
   "file_extension": ".py",
   "mimetype": "text/x-python",
   "name": "python",
   "nbconvert_exporter": "python",
   "pygments_lexer": "ipython3",
   "version": "3.9.12"
  }
 },
 "nbformat": 4,
 "nbformat_minor": 2
}
