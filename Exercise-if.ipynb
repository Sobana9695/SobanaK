{
 "cells": [
  {
   "cell_type": "markdown",
   "id": "ff005959",
   "metadata": {},
   "source": [
    "Q1. Write a program to accept percentage from the user and display the grade according to the following criteria:\n",
    "\n",
    "         Marks                                    Grade\n",
    "         > 90                                        A\n",
    "         > 80 and <= 90                              B\n",
    "         >= 60 and <= 80                             C\n",
    "         below 60                                    D"
   ]
  },
  {
   "cell_type": "code",
   "execution_count": 2,
   "id": "15f916d4",
   "metadata": {},
   "outputs": [
    {
     "name": "stdout",
     "output_type": "stream",
     "text": [
      "Enter the marks: 75\n",
      "Grade : c\n"
     ]
    }
   ],
   "source": [
    "marks=int(input(\"Enter the marks: \"))\n",
    "if marks>90:\n",
    "    print(\"Grade : A\")\n",
    "elif marks>80 and marks<=90:\n",
    "    print(\"Grade : B\")\n",
    "elif marks>=60 and marks<=80:\n",
    "    print(\"Grade : c\") \n",
    "elif marks<60:\n",
    "    print(\"Grade : D\") "
   ]
  },
  {
   "cell_type": "markdown",
   "id": "4cad3065",
   "metadata": {},
   "source": [
    "Q2. Write a program to accept the cost price of a bike and display the road tax to be paid according to the following criteria :\n",
    "    \n",
    "        Cost price (in Rs)                                       Tax\n",
    "        > 100000                                                  15 %\n",
    "        > 50000 and <= 100000                                     10%\n",
    "        <= 50000                                                  5%\n",
    "                                                           "
   ]
  },
  {
   "cell_type": "code",
   "execution_count": 3,
   "id": "5cb1f1cd",
   "metadata": {},
   "outputs": [
    {
     "name": "stdout",
     "output_type": "stream",
     "text": [
      "Enter the cost price:150000\n",
      "Road tax is : 15%\n"
     ]
    }
   ],
   "source": [
    "c_p=int(input(\"Enter the cost price:\"))\n",
    "if c_p<=50000:\n",
    "    print(\"Road tax is : 5%\")\n",
    "elif c_p>50000 and c_p<=100000:\n",
    "    print(\"Road tax is : 10%\")\n",
    "elif c_p>100000: \n",
    "    print(\"Road tax is : 15%\")"
   ]
  },
  {
   "cell_type": "markdown",
   "id": "debe820a",
   "metadata": {},
   "source": [
    "Q3. Write a program to check whether a person is eligible for voting or not. (accept age from user)"
   ]
  },
  {
   "cell_type": "code",
   "execution_count": 4,
   "id": "73cb6fdc",
   "metadata": {},
   "outputs": [
    {
     "name": "stdout",
     "output_type": "stream",
     "text": [
      "Enter the age for vote:17\n",
      "Not eligible for voting\n"
     ]
    }
   ],
   "source": [
    "age=int(input(\"Enter the age for vote:\"))\n",
    "if age>18:\n",
    "    print(\"Eligible for voting\")\n",
    "else:\n",
    "     print(\"Not eligible for voting\")"
   ]
  },
  {
   "cell_type": "markdown",
   "id": "0b0cdf76",
   "metadata": {},
   "source": [
    "Q4. Write a program to check whether a number entered by user is even or odd."
   ]
  },
  {
   "cell_type": "code",
   "execution_count": 5,
   "id": "c5ea37db",
   "metadata": {},
   "outputs": [
    {
     "name": "stdout",
     "output_type": "stream",
     "text": [
      "Enter the number:10\n",
      "Number is even\n"
     ]
    }
   ],
   "source": [
    "z=int(input(\"Enter the number:\"))\n",
    "if z%2==0:\n",
    "    print(\"Number is even\")\n",
    "else:\n",
    "    print(\"Number is odd\")"
   ]
  },
  {
   "cell_type": "markdown",
   "id": "388ec246",
   "metadata": {},
   "source": [
    "Q5. Write a program to check whether a number is divisible by 7 or not."
   ]
  },
  {
   "cell_type": "code",
   "execution_count": 6,
   "id": "dd85909f",
   "metadata": {},
   "outputs": [
    {
     "name": "stdout",
     "output_type": "stream",
     "text": [
      "Enter the number:29\n",
      "Number is not divisible by 7\n"
     ]
    }
   ],
   "source": [
    "z=int(input(\"Enter the number:\"))\n",
    "if z%7==0:\n",
    "    print(\"Number is divisible by 7\")\n",
    "else:\n",
    "    print(\"Number is not divisible by 7\")"
   ]
  },
  {
   "cell_type": "markdown",
   "id": "8d2726f8",
   "metadata": {},
   "source": [
    "Q6. Write a program to display \"Hello\" if a number entered by user is a multiple of five , \n",
    "otherwise print \"Bye\"."
   ]
  },
  {
   "cell_type": "code",
   "execution_count": 7,
   "id": "744f167f",
   "metadata": {},
   "outputs": [
    {
     "name": "stdout",
     "output_type": "stream",
     "text": [
      "Enter the number:25\n",
      "Hello\n"
     ]
    }
   ],
   "source": [
    "x=int(input(\"Enter the number:\"))\n",
    "if x%5==0:\n",
    "    print(\"Hello\")\n",
    "else:\n",
    "    print(\"Bye\")"
   ]
  },
  {
   "cell_type": "markdown",
   "id": "de055b1c",
   "metadata": {},
   "source": [
    "Q7. Write a program to calculate the electricity bill (accept number of unit from user) according to the following criteria :\n",
    "             Unit                                                     Price  \n",
    "First 100 units                                               no charge\n",
    "Next 100 units                                              Rs 5 per unit\n",
    "After 200 units                                             Rs 10 per unit\n",
    "(For example if input unit is 350 than total bill amount is Rs2000)"
   ]
  },
  {
   "cell_type": "code",
   "execution_count": 8,
   "id": "46a78a11",
   "metadata": {},
   "outputs": [
    {
     "name": "stdout",
     "output_type": "stream",
     "text": [
      "Enter the units: 250\n",
      "Total Bill amount is 1000\n"
     ]
    }
   ],
   "source": [
    "units=int(input(\"Enter the units: \") )\n",
    "if units<=100:\n",
    "    Print(\"no charge\")\n",
    "elif units>100 and units <200:\n",
    "    print(\"Rs.5 per unit\")\n",
    "    print(\"Bill amount is\", units*5)\n",
    "elif units>200:\n",
    "    x=100*5\n",
    "    y=(units-200)*10\n",
    "    print(\"Total Bill amount is\", x+y)    "
   ]
  },
  {
   "cell_type": "markdown",
   "id": "dec85092",
   "metadata": {},
   "source": [
    "Q8. Write a program to display the last digit of a number."
   ]
  },
  {
   "cell_type": "code",
   "execution_count": 10,
   "id": "f084b54e",
   "metadata": {},
   "outputs": [
    {
     "name": "stdout",
     "output_type": "stream",
     "text": [
      "Enter the number:345\n",
      "The last digit of a number is: 5\n"
     ]
    }
   ],
   "source": [
    "z=int(input(\"Enter the number:\"))\n",
    "y=z%10\n",
    "print(\"The last digit of a number is:\",y)"
   ]
  },
  {
   "cell_type": "markdown",
   "id": "eafa6317",
   "metadata": {},
   "source": [
    "Q9. Write a program to check whether the last digit of a number( entered by user ) is \n",
    "divisible by 3 or not."
   ]
  },
  {
   "cell_type": "code",
   "execution_count": 11,
   "id": "d69f2b86",
   "metadata": {},
   "outputs": [
    {
     "name": "stdout",
     "output_type": "stream",
     "text": [
      "Enter the number:36\n",
      "The last digit of the number is divisible by 3\n"
     ]
    }
   ],
   "source": [
    "z=int(input(\"Enter the number:\"))\n",
    "y=z%10\n",
    "if y%3==0:\n",
    "    print(\"The last digit of the number is divisible by 3\")\n",
    "else:\n",
    "    print(\"The last digit of the number is not divisible by 3\")"
   ]
  },
  {
   "cell_type": "code",
   "execution_count": null,
   "id": "7d6e42c9",
   "metadata": {},
   "outputs": [],
   "source": []
  }
 ],
 "metadata": {
  "kernelspec": {
   "display_name": "Python 3 (ipykernel)",
   "language": "python",
   "name": "python3"
  },
  "language_info": {
   "codemirror_mode": {
    "name": "ipython",
    "version": 3
   },
   "file_extension": ".py",
   "mimetype": "text/x-python",
   "name": "python",
   "nbconvert_exporter": "python",
   "pygments_lexer": "ipython3",
   "version": "3.9.12"
  }
 },
 "nbformat": 4,
 "nbformat_minor": 5
}
