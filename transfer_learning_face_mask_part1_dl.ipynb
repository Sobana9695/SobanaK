{
 "cells": [
  {
   "cell_type": "code",
   "execution_count": 1,
   "id": "31698744",
   "metadata": {},
   "outputs": [],
   "source": [
    "import os\n",
    "import random as rd\n",
    "import glob\n",
    "import numpy as np\n",
    "import cv2"
   ]
  },
  {
   "cell_type": "code",
   "execution_count": 8,
   "id": "15fb335c",
   "metadata": {},
   "outputs": [],
   "source": [
    "with_mask = glob.glob(r\"D:\\deep learning\\mask\\archive (4)\\data\\with_mask/*.*\")\n",
    "without_mask = glob.glob(r\"D:\\deep learning\\mask\\archive (4)\\data\\without_mask/*.*\")"
   ]
  },
  {
   "cell_type": "code",
   "execution_count": 9,
   "id": "59901c3d",
   "metadata": {},
   "outputs": [],
   "source": [
    "data = []\n",
    "labels = []\n",
    "\n",
    "for i in with_mask:\n",
    "    img=cv2.imread(i)\n",
    "    img=cv2.resize(img, (250,250))\n",
    "    data.append(img)\n",
    "    labels.append(0)\n",
    "    \n",
    "    \n",
    "for i in without_mask:\n",
    "    img=cv2.imread(i)\n",
    "    img=cv2.resize(img, (250,250))\n",
    "    data.append(img)\n",
    "    labels.append(1)"
   ]
  },
  {
   "cell_type": "code",
   "execution_count": 10,
   "id": "82e926e4",
   "metadata": {},
   "outputs": [],
   "source": [
    "from sklearn.model_selection import train_test_split"
   ]
  },
  {
   "cell_type": "code",
   "execution_count": 11,
   "id": "225f8912",
   "metadata": {},
   "outputs": [],
   "source": [
    "x_train,x_test,y_train,y_test=train_test_split(np.array(data),np.array(labels),test_size=0.2) \n",
    "# becoz list is there convert to array"
   ]
  },
  {
   "cell_type": "code",
   "execution_count": 12,
   "id": "410a57ce",
   "metadata": {},
   "outputs": [
    {
     "data": {
      "text/plain": [
       "(6042, 250, 250, 3)"
      ]
     },
     "execution_count": 12,
     "metadata": {},
     "output_type": "execute_result"
    }
   ],
   "source": [
    "x_train.shape  # x_train,no need to do preprocessing,already in crt shpe(no.of datapoints,width,height,depth)"
   ]
  },
  {
   "cell_type": "code",
   "execution_count": 13,
   "id": "315f0834",
   "metadata": {},
   "outputs": [],
   "source": [
    "from keras.utils import np_utils  # convert to categorical"
   ]
  },
  {
   "cell_type": "code",
   "execution_count": 14,
   "id": "6b67f826",
   "metadata": {},
   "outputs": [],
   "source": [
    "y_trains=np_utils.to_categorical(y_train,2)\n",
    "y_tests=np_utils.to_categorical(y_test,2)   # convert to categorical so that we can use softmax in final layer"
   ]
  },
  {
   "cell_type": "code",
   "execution_count": 15,
   "id": "ed6c9b88",
   "metadata": {},
   "outputs": [
    {
     "data": {
      "text/plain": [
       "array([1., 0.], dtype=float32)"
      ]
     },
     "execution_count": 15,
     "metadata": {},
     "output_type": "execute_result"
    }
   ],
   "source": [
    "y_trains[0]  # 1st image is without mask"
   ]
  },
  {
   "cell_type": "markdown",
   "id": "54938367",
   "metadata": {},
   "source": [
    "# Directlty using pretrained model to implement transfer learning"
   ]
  },
  {
   "cell_type": "code",
   "execution_count": 19,
   "id": "9030ff8a",
   "metadata": {},
   "outputs": [],
   "source": [
    "from keras.applications.vgg16 import VGG16   # vgg16 train on colour image,convert grey to colour"
   ]
  },
  {
   "cell_type": "code",
   "execution_count": 21,
   "id": "319ddce0",
   "metadata": {},
   "outputs": [
    {
     "name": "stdout",
     "output_type": "stream",
     "text": [
      "Downloading data from https://storage.googleapis.com/tensorflow/keras-applications/vgg16/vgg16_weights_tf_dim_ordering_tf_kernels_notop.h5\n",
      "58889256/58889256 [==============================] - 620s 11us/step\n"
     ]
    }
   ],
   "source": [
    "# give wight ,dimension,whether model is trainale or not check\n",
    "main=VGG16(include_top=False,weights=\"imagenet\",input_shape=(250,250,3))   # include cnn layer without dense becoz to categorize our model,weight from imagenet"
   ]
  },
  {
   "cell_type": "code",
   "execution_count": null,
   "id": "acad0ba6",
   "metadata": {},
   "outputs": [],
   "source": [
    "# downloading weights"
   ]
  },
  {
   "cell_type": "code",
   "execution_count": 22,
   "id": "865c86ad",
   "metadata": {},
   "outputs": [],
   "source": [
    "main.trainable=False  # model not learning wight just take weight from imagenet,dense will update the weight"
   ]
  },
  {
   "cell_type": "code",
   "execution_count": null,
   "id": "8470a5a2",
   "metadata": {},
   "outputs": [],
   "source": [
    "#main.trainable=true- training do"
   ]
  },
  {
   "cell_type": "code",
   "execution_count": 23,
   "id": "9d00e3b1",
   "metadata": {},
   "outputs": [
    {
     "name": "stdout",
     "output_type": "stream",
     "text": [
      "Model: \"vgg16\"\n",
      "_________________________________________________________________\n",
      " Layer (type)                Output Shape              Param #   \n",
      "=================================================================\n",
      " input_4 (InputLayer)        [(None, 250, 250, 3)]     0         \n",
      "                                                                 \n",
      " block1_conv1 (Conv2D)       (None, 250, 250, 64)      1792      \n",
      "                                                                 \n",
      " block1_conv2 (Conv2D)       (None, 250, 250, 64)      36928     \n",
      "                                                                 \n",
      " block1_pool (MaxPooling2D)  (None, 125, 125, 64)      0         \n",
      "                                                                 \n",
      " block2_conv1 (Conv2D)       (None, 125, 125, 128)     73856     \n",
      "                                                                 \n",
      " block2_conv2 (Conv2D)       (None, 125, 125, 128)     147584    \n",
      "                                                                 \n",
      " block2_pool (MaxPooling2D)  (None, 62, 62, 128)       0         \n",
      "                                                                 \n",
      " block3_conv1 (Conv2D)       (None, 62, 62, 256)       295168    \n",
      "                                                                 \n",
      " block3_conv2 (Conv2D)       (None, 62, 62, 256)       590080    \n",
      "                                                                 \n",
      " block3_conv3 (Conv2D)       (None, 62, 62, 256)       590080    \n",
      "                                                                 \n",
      " block3_pool (MaxPooling2D)  (None, 31, 31, 256)       0         \n",
      "                                                                 \n",
      " block4_conv1 (Conv2D)       (None, 31, 31, 512)       1180160   \n",
      "                                                                 \n",
      " block4_conv2 (Conv2D)       (None, 31, 31, 512)       2359808   \n",
      "                                                                 \n",
      " block4_conv3 (Conv2D)       (None, 31, 31, 512)       2359808   \n",
      "                                                                 \n",
      " block4_pool (MaxPooling2D)  (None, 15, 15, 512)       0         \n",
      "                                                                 \n",
      " block5_conv1 (Conv2D)       (None, 15, 15, 512)       2359808   \n",
      "                                                                 \n",
      " block5_conv2 (Conv2D)       (None, 15, 15, 512)       2359808   \n",
      "                                                                 \n",
      " block5_conv3 (Conv2D)       (None, 15, 15, 512)       2359808   \n",
      "                                                                 \n",
      " block5_pool (MaxPooling2D)  (None, 7, 7, 512)         0         \n",
      "                                                                 \n",
      "=================================================================\n",
      "Total params: 14,714,688\n",
      "Trainable params: 0\n",
      "Non-trainable params: 14,714,688\n",
      "_________________________________________________________________\n"
     ]
    }
   ],
   "source": [
    "main.summary()"
   ]
  },
  {
   "cell_type": "code",
   "execution_count": 25,
   "id": "932a09da",
   "metadata": {},
   "outputs": [],
   "source": [
    "from keras.models import Sequential\n",
    "from keras.layers import Dense,Flatten"
   ]
  },
  {
   "cell_type": "code",
   "execution_count": 26,
   "id": "110da429",
   "metadata": {},
   "outputs": [],
   "source": [
    "model=Sequential()\n",
    "model.add(main)  # main add to model\n",
    "model.add(Flatten())\n",
    "model.add(Dense(80,activation=\"relu\"))\n",
    "model.add(Dense(2,activation=\"softmax\"))  # softmax becoz one hot "
   ]
  },
  {
   "cell_type": "code",
   "execution_count": 27,
   "id": "fc3c05d2",
   "metadata": {},
   "outputs": [
    {
     "name": "stdout",
     "output_type": "stream",
     "text": [
      "Model: \"sequential\"\n",
      "_________________________________________________________________\n",
      " Layer (type)                Output Shape              Param #   \n",
      "=================================================================\n",
      " vgg16 (Functional)          (None, 7, 7, 512)         14714688  \n",
      "                                                                 \n",
      " flatten (Flatten)           (None, 25088)             0         \n",
      "                                                                 \n",
      " dense (Dense)               (None, 80)                2007120   \n",
      "                                                                 \n",
      " dense_1 (Dense)             (None, 2)                 162       \n",
      "                                                                 \n",
      "=================================================================\n",
      "Total params: 16,721,970\n",
      "Trainable params: 2,007,282\n",
      "Non-trainable params: 14,714,688\n",
      "_________________________________________________________________\n"
     ]
    }
   ],
   "source": [
    "model.summary()"
   ]
  },
  {
   "cell_type": "code",
   "execution_count": null,
   "id": "9d9dbe84",
   "metadata": {},
   "outputs": [],
   "source": [
    "#Trainable params- dense (Dense) + dense_1 (Dense)  ,train on 2,007,282 not on 14714688"
   ]
  },
  {
   "cell_type": "code",
   "execution_count": 28,
   "id": "48d54c87",
   "metadata": {},
   "outputs": [],
   "source": [
    "model.compile(optimizer=\"rmsprop\",loss=\"categorical_crossentropy\",metrics=[\"accuracy\"])"
   ]
  },
  {
   "cell_type": "code",
   "execution_count": null,
   "id": "a7391692",
   "metadata": {},
   "outputs": [],
   "source": [
    "model.fit(x_train,y_trains,batch_size=100,epochs=1,validation_split=0.2)"
   ]
  },
  {
   "cell_type": "code",
   "execution_count": null,
   "id": "b59dd5e2",
   "metadata": {},
   "outputs": [],
   "source": []
  },
  {
   "cell_type": "code",
   "execution_count": null,
   "id": "89a3661f",
   "metadata": {},
   "outputs": [],
   "source": []
  },
  {
   "cell_type": "code",
   "execution_count": null,
   "id": "786fd938",
   "metadata": {},
   "outputs": [],
   "source": [
    "main=VGG16(include_top=False,weights=\"imagenet\",input_shape=(250,250,3)) \n",
    "# by changing vgg16 to another pretrained model"
   ]
  },
  {
   "cell_type": "code",
   "execution_count": null,
   "id": "53a0a5ad",
   "metadata": {},
   "outputs": [],
   "source": [
    "main.trainable=True"
   ]
  },
  {
   "cell_type": "code",
   "execution_count": null,
   "id": "39cb9707",
   "metadata": {},
   "outputs": [],
   "source": [
    "main.summary()"
   ]
  },
  {
   "cell_type": "code",
   "execution_count": null,
   "id": "625ac222",
   "metadata": {},
   "outputs": [],
   "source": [
    "for layers in main.layers:\n",
    "    if layers.name.startswith(\"block5_\"):\n",
    "        layers.trainable=True   # traing only last layer,freeze 1st 3 layers\n",
    "    else:\n",
    "        layers.trainable=False\n",
    "        \n",
    "    print(layers.name,layers.trainable)"
   ]
  },
  {
   "cell_type": "code",
   "execution_count": null,
   "id": "3e5df7ac",
   "metadata": {},
   "outputs": [],
   "source": []
  }
 ],
 "metadata": {
  "kernelspec": {
   "display_name": "Python 3 (ipykernel)",
   "language": "python",
   "name": "python3"
  },
  "language_info": {
   "codemirror_mode": {
    "name": "ipython",
    "version": 3
   },
   "file_extension": ".py",
   "mimetype": "text/x-python",
   "name": "python",
   "nbconvert_exporter": "python",
   "pygments_lexer": "ipython3",
   "version": "3.9.13"
  }
 },
 "nbformat": 4,
 "nbformat_minor": 5
}
