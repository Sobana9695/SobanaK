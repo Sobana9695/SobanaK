{
 "cells": [
  {
   "cell_type": "code",
   "execution_count": 1,
   "id": "e50d4084",
   "metadata": {},
   "outputs": [
    {
     "name": "stdout",
     "output_type": "stream",
     "text": [
      "  * \n",
      " * * \n",
      "* * *\n",
      "*   *\n"
     ]
    }
   ],
   "source": [
    "x=0\n",
    "while x<5:\n",
    "    if x==0:\n",
    "        print(\"  * \")\n",
    "    elif x==1:\n",
    "        print(\" * * \")\n",
    "    elif x==2:\n",
    "        print(\"* * *\")\n",
    "    elif x==3:\n",
    "        print(\"*   *\")   \n",
    "    \n",
    "    x+=1    \n",
    "        "
   ]
  },
  {
   "cell_type": "code",
   "execution_count": 2,
   "id": "7919e5db",
   "metadata": {},
   "outputs": [
    {
     "name": "stdout",
     "output_type": "stream",
     "text": [
      "* *  \n",
      "*   *\n",
      "* * *\n",
      "*   *\n",
      "* *  \n"
     ]
    }
   ],
   "source": [
    "x=0\n",
    "while x<5:\n",
    "    if x==0:\n",
    "        print(\"* *  \")\n",
    "    elif x==1:\n",
    "        print(\"*   *\")\n",
    "    elif x==2:\n",
    "        print(\"* * *\")\n",
    "    elif x==3:\n",
    "        print(\"*   *\")   \n",
    "    elif x==4:\n",
    "        print(\"* *  \")\n",
    "    x+=1    \n",
    "        "
   ]
  },
  {
   "cell_type": "code",
   "execution_count": 3,
   "id": "4dcc8064",
   "metadata": {},
   "outputs": [
    {
     "name": "stdout",
     "output_type": "stream",
     "text": [
      "  * *\n",
      "*    \n",
      "*    \n",
      "*    \n",
      "  * *\n"
     ]
    }
   ],
   "source": [
    "x=0\n",
    "while x<5:\n",
    "    if x==0:\n",
    "        print(\"  * *\")\n",
    "    elif x==1:\n",
    "        print(\"*    \")\n",
    "    elif x==2:\n",
    "        print(\"*    \")\n",
    "    elif x==3:\n",
    "        print(\"*    \")   \n",
    "    elif x==4:\n",
    "        print(\"  * *\")\n",
    "    x+=1    \n",
    "        "
   ]
  },
  {
   "cell_type": "code",
   "execution_count": 4,
   "id": "f6dadaf0",
   "metadata": {},
   "outputs": [
    {
     "name": "stdout",
     "output_type": "stream",
     "text": [
      "* * \n",
      "*   *\n",
      "*   *\n",
      "*   *\n",
      "* * \n"
     ]
    }
   ],
   "source": [
    "x=0\n",
    "while x<5:\n",
    "    if x==0:\n",
    "        print(\"* * \")\n",
    "    elif x==1:\n",
    "        print(\"*   *\")\n",
    "    elif x==2:\n",
    "        print(\"*   *\")\n",
    "    elif x==3:\n",
    "        print(\"*   *\")   \n",
    "    elif x==4:\n",
    "        print(\"* * \")\n",
    "    x+=1    \n",
    "        "
   ]
  },
  {
   "cell_type": "code",
   "execution_count": 5,
   "id": "8ccf0032",
   "metadata": {},
   "outputs": [
    {
     "name": "stdout",
     "output_type": "stream",
     "text": [
      "* * *\n",
      "*    \n",
      "* * *\n",
      "*    \n",
      "* * *\n"
     ]
    }
   ],
   "source": [
    "x=0\n",
    "while x<5:\n",
    "    if x==0:\n",
    "        print(\"* * *\")\n",
    "    elif x==1:\n",
    "        print(\"*    \")\n",
    "    elif x==2:\n",
    "        print(\"* * *\")\n",
    "    elif x==3:\n",
    "        print(\"*    \")   \n",
    "    elif x==4:\n",
    "        print(\"* * *\")\n",
    "    x+=1    \n",
    "        "
   ]
  },
  {
   "cell_type": "code",
   "execution_count": 6,
   "id": "6a858669",
   "metadata": {},
   "outputs": [
    {
     "name": "stdout",
     "output_type": "stream",
     "text": [
      "* * *\n",
      "* * *\n",
      "*    \n",
      "*    \n"
     ]
    }
   ],
   "source": [
    "x=0\n",
    "while x<4:\n",
    "    if x==0:\n",
    "        print(\"* * *\")\n",
    "    elif x==1:\n",
    "        print(\"* * *\")\n",
    "    elif x==2:\n",
    "        print(\"*    \")\n",
    "    elif x==3:\n",
    "        print(\"*    \")   \n",
    "    x+=1    \n",
    "        "
   ]
  },
  {
   "cell_type": "code",
   "execution_count": 7,
   "id": "f2ba59b5",
   "metadata": {},
   "outputs": [
    {
     "name": "stdout",
     "output_type": "stream",
     "text": [
      "  * *\n",
      "*    \n",
      "* * *\n",
      "*   *\n",
      "  * *\n"
     ]
    }
   ],
   "source": [
    "x=0\n",
    "while x<5:\n",
    "    if x==0:\n",
    "        print(\"  * *\")\n",
    "    elif x==1:\n",
    "        print(\"*    \")\n",
    "    elif x==2:\n",
    "        print(\"* * *\")\n",
    "    elif x==3:\n",
    "        print(\"*   *\")   \n",
    "    elif x==4:\n",
    "        print(\"  * *\")\n",
    "    x+=1    "
   ]
  },
  {
   "cell_type": "code",
   "execution_count": 9,
   "id": "0b923f85",
   "metadata": {},
   "outputs": [
    {
     "name": "stdout",
     "output_type": "stream",
     "text": [
      "*   *\n",
      "*   *\n",
      "* * *\n",
      "*   *\n",
      "*   *\n"
     ]
    }
   ],
   "source": [
    "x=0\n",
    "while x<5:\n",
    "    if x==0:\n",
    "        print(\"*   *\")\n",
    "    elif x==1:\n",
    "        print(\"*   *\")\n",
    "    elif x==2:\n",
    "        print(\"* * *\")\n",
    "    elif x==3:\n",
    "        print(\"*   *\")   \n",
    "    elif x==4:\n",
    "        print(\"*   *\")\n",
    "    x+=1    "
   ]
  },
  {
   "cell_type": "code",
   "execution_count": 10,
   "id": "02c62f77",
   "metadata": {},
   "outputs": [
    {
     "name": "stdout",
     "output_type": "stream",
     "text": [
      "* * *\n",
      "  *  \n",
      "* * *\n"
     ]
    }
   ],
   "source": [
    "x=0\n",
    "while x<3:\n",
    "    if x==0:\n",
    "        print(\"* * *\")\n",
    "    elif x==1:\n",
    "        print(\"  *  \")\n",
    "    elif x==2:\n",
    "        print(\"* * *\")\n",
    "    x+=1    "
   ]
  },
  {
   "cell_type": "code",
   "execution_count": 11,
   "id": "154f7388",
   "metadata": {},
   "outputs": [
    {
     "name": "stdout",
     "output_type": "stream",
     "text": [
      "* * *\n",
      "  *  \n",
      "* *  \n"
     ]
    }
   ],
   "source": [
    "x=0\n",
    "while x<3:\n",
    "    if x==0:\n",
    "        print(\"* * *\")\n",
    "    elif x==1:\n",
    "        print(\"  *  \")\n",
    "    elif x==2:\n",
    "        print(\"* *  \")\n",
    "    x+=1    "
   ]
  },
  {
   "cell_type": "code",
   "execution_count": 12,
   "id": "416e3e60",
   "metadata": {},
   "outputs": [
    {
     "name": "stdout",
     "output_type": "stream",
     "text": [
      "*   *\n",
      "* *  \n",
      "*   *\n"
     ]
    }
   ],
   "source": [
    "x=0\n",
    "while x<3:\n",
    "    if x==0:\n",
    "        print(\"*   *\")\n",
    "    elif x==1:\n",
    "        print(\"* *  \")\n",
    "    elif x==2:\n",
    "        print(\"*   *\")\n",
    "    x+=1    "
   ]
  },
  {
   "cell_type": "code",
   "execution_count": 13,
   "id": "aca03592",
   "metadata": {},
   "outputs": [
    {
     "name": "stdout",
     "output_type": "stream",
     "text": [
      "*    \n",
      "*    \n",
      "* * *\n"
     ]
    }
   ],
   "source": [
    "x=0\n",
    "while x<3:\n",
    "    if x==0:\n",
    "        print(\"*    \")\n",
    "    elif x==1:\n",
    "        print(\"*    \")\n",
    "    elif x==2:\n",
    "        print(\"* * *\")\n",
    "    x+=1    "
   ]
  },
  {
   "cell_type": "code",
   "execution_count": 14,
   "id": "3ae1d44e",
   "metadata": {},
   "outputs": [
    {
     "name": "stdout",
     "output_type": "stream",
     "text": [
      "   *     *\n",
      "  * *   * *\n",
      " *   * *   *\n",
      "*     *     *\n"
     ]
    }
   ],
   "source": [
    "x=0\n",
    "while x<4:\n",
    "    if x==0:\n",
    "        print(\"   *     *\")\n",
    "    elif x==1:\n",
    "        print(\"  * *   * *\")\n",
    "    elif x==2:\n",
    "        print(\" *   * *   *\")\n",
    "    elif x==3:\n",
    "        print(\"*     *     *\")   \n",
    "    x+=1    "
   ]
  },
  {
   "cell_type": "code",
   "execution_count": 21,
   "id": "5b21fb9e",
   "metadata": {},
   "outputs": [
    {
     "name": "stdout",
     "output_type": "stream",
     "text": [
      "*    *\n",
      "* *  *\n",
      "*  * *\n",
      "*    *\n"
     ]
    }
   ],
   "source": [
    "x=0\n",
    "while x<4:\n",
    "    if x==0:\n",
    "        print(\"*    *\")\n",
    "    elif x==1:\n",
    "        print(\"* *  *\")\n",
    "    elif x==2:\n",
    "        print(\"*  * *\")\n",
    "    elif x==3:\n",
    "        print(\"*    *\")\n",
    "    x+=1    "
   ]
  },
  {
   "cell_type": "code",
   "execution_count": 28,
   "id": "134d5611",
   "metadata": {},
   "outputs": [
    {
     "name": "stdout",
     "output_type": "stream",
     "text": [
      "  * *  \n",
      "*     *\n",
      "*     *\n",
      "  * *  \n"
     ]
    }
   ],
   "source": [
    "x=0\n",
    "while x<5:\n",
    "    if x==0:\n",
    "        print(\"  * *  \")\n",
    "    elif x==1:\n",
    "        print(\"*     *\")\n",
    "    elif x==2:\n",
    "        print(\"*     *\")\n",
    "    elif x==3:\n",
    "        print(\"  * *  \")\n",
    "    x+=1    "
   ]
  },
  {
   "cell_type": "code",
   "execution_count": 29,
   "id": "c40eb268",
   "metadata": {},
   "outputs": [
    {
     "name": "stdout",
     "output_type": "stream",
     "text": [
      "* * *\n",
      "*   *\n",
      "* * *\n",
      "*    \n",
      "*    \n"
     ]
    }
   ],
   "source": [
    "x=0\n",
    "while x<5:\n",
    "    if x==0:\n",
    "        print(\"* * *\")\n",
    "    elif x==1:\n",
    "        print(\"*   *\")\n",
    "    elif x==2:\n",
    "        print(\"* * *\")\n",
    "    elif x==3:\n",
    "        print(\"*    \")   \n",
    "    elif x==4:\n",
    "        print(\"*    \")\n",
    "    x+=1    \n",
    "        "
   ]
  },
  {
   "cell_type": "code",
   "execution_count": 36,
   "id": "9fe8b863",
   "metadata": {},
   "outputs": [
    {
     "name": "stdout",
     "output_type": "stream",
     "text": [
      "  * *  \n",
      "*     *\n",
      "*  *  *\n",
      "  *  *   \n",
      "       *\n"
     ]
    }
   ],
   "source": [
    "x=0\n",
    "while x<5:\n",
    "    if x==0:\n",
    "        print(\"  * *  \")\n",
    "    elif x==1:\n",
    "        print(\"*     *\")\n",
    "    elif x==2:\n",
    "        print(\"*  *  *\")\n",
    "    elif x==3:\n",
    "        print(\"  *  *   \")\n",
    "    elif x==4:\n",
    "        print(\"       *\")\n",
    "    x+=1    "
   ]
  },
  {
   "cell_type": "code",
   "execution_count": 38,
   "id": "7378064e",
   "metadata": {},
   "outputs": [
    {
     "name": "stdout",
     "output_type": "stream",
     "text": [
      "* * *\n",
      "*   *\n",
      "* * *\n",
      "*  *  \n",
      "*   *\n"
     ]
    }
   ],
   "source": [
    "x=0\n",
    "while x<5:\n",
    "    if x==0:\n",
    "        print(\"* * *\")\n",
    "    elif x==1:\n",
    "        print(\"*   *\")\n",
    "    elif x==2:\n",
    "        print(\"* * *\")\n",
    "    elif x==3:\n",
    "        print(\"*  *  \")   \n",
    "    elif x==4:\n",
    "        print(\"*   *\")\n",
    "    x+=1    \n",
    "        "
   ]
  },
  {
   "cell_type": "code",
   "execution_count": 39,
   "id": "c6469fcd",
   "metadata": {},
   "outputs": [
    {
     "name": "stdout",
     "output_type": "stream",
     "text": [
      "* * *\n",
      "*    \n",
      "* * *\n",
      "    *\n",
      "* * *\n"
     ]
    }
   ],
   "source": [
    "x=0\n",
    "while x<5:\n",
    "    if x==0:\n",
    "        print(\"* * *\")\n",
    "    elif x==1:\n",
    "        print(\"*    \")\n",
    "    elif x==2:\n",
    "        print(\"* * *\")\n",
    "    elif x==3:\n",
    "        print(\"    *\")   \n",
    "    elif x==4:\n",
    "        print(\"* * *\")\n",
    "    x+=1    \n",
    "        "
   ]
  },
  {
   "cell_type": "code",
   "execution_count": 40,
   "id": "d8077054",
   "metadata": {},
   "outputs": [
    {
     "name": "stdout",
     "output_type": "stream",
     "text": [
      "* * *\n",
      "  *  \n",
      "  *  \n"
     ]
    }
   ],
   "source": [
    "x=0\n",
    "while x<3:\n",
    "    if x==0:\n",
    "        print(\"* * *\")\n",
    "    elif x==1:\n",
    "        print(\"  *  \")\n",
    "    elif x==2:\n",
    "        print(\"  *  \")\n",
    "    x+=1    "
   ]
  },
  {
   "cell_type": "code",
   "execution_count": 46,
   "id": "8e7775b5",
   "metadata": {},
   "outputs": [
    {
     "name": "stdout",
     "output_type": "stream",
     "text": [
      "*   *\n",
      "*   *\n",
      "* * *\n"
     ]
    }
   ],
   "source": [
    "x=0\n",
    "while x<3:\n",
    "    if x==0:\n",
    "        print(\"*   *\")\n",
    "    elif x==1:\n",
    "        print(\"*   *\")\n",
    "    elif x==2:\n",
    "        print(\"* * *\")\n",
    "    \n",
    "    x+=1    \n",
    "        \n",
    "        "
   ]
  },
  {
   "cell_type": "code",
   "execution_count": 48,
   "id": "16b21915",
   "metadata": {},
   "outputs": [
    {
     "name": "stdout",
     "output_type": "stream",
     "text": [
      "*   *\n",
      " * *\n",
      "  *  \n"
     ]
    }
   ],
   "source": [
    "x=0\n",
    "while x<3:\n",
    "    if x==0:\n",
    "        print(\"*   *\")\n",
    "    elif x==1:\n",
    "        print(\" * *\")\n",
    "    elif x==2:\n",
    "        print(\"  *  \")\n",
    "    \n",
    "    x+=1    \n",
    "        "
   ]
  },
  {
   "cell_type": "code",
   "execution_count": 50,
   "id": "e815d519",
   "metadata": {},
   "outputs": [
    {
     "name": "stdout",
     "output_type": "stream",
     "text": [
      "*   *   *\n",
      " * * * *\n",
      "  *   *\n"
     ]
    }
   ],
   "source": [
    "x=0\n",
    "while x<3:\n",
    "    if x==0:\n",
    "        print(\"*   *\")\n",
    "    elif x==1:\n",
    "        print(\" * *\")\n",
    "    elif x==2:\n",
    "        print(\"  *  \")\n",
    "    \n",
    "    x+=1    \n",
    "        "
   ]
  },
  {
   "cell_type": "code",
   "execution_count": 52,
   "id": "b3af4145",
   "metadata": {},
   "outputs": [
    {
     "name": "stdout",
     "output_type": "stream",
     "text": [
      "*   *\n",
      " * *\n",
      "  *  \n",
      " * *\n",
      "*   *\n"
     ]
    }
   ],
   "source": [
    "x=0\n",
    "while x<5:\n",
    "    if x==0:\n",
    "        print(\"*   *\")\n",
    "    elif x==1:\n",
    "        print(\" * *\")\n",
    "    elif x==2:\n",
    "        print(\"  *  \")\n",
    "    elif x==3:\n",
    "        print(\" * *\")\n",
    "    elif x==4:\n",
    "        print(\"*   *\")\n",
    "    \n",
    "    x+=1    "
   ]
  },
  {
   "cell_type": "code",
   "execution_count": 53,
   "id": "81d180bb",
   "metadata": {},
   "outputs": [
    {
     "name": "stdout",
     "output_type": "stream",
     "text": [
      "*   *\n",
      " * *\n",
      "  *  \n",
      "  *\n",
      "  *\n"
     ]
    }
   ],
   "source": [
    "x=0\n",
    "while x<5:\n",
    "    if x==0:\n",
    "        print(\"*   *\")\n",
    "    elif x==1:\n",
    "        print(\" * *\")\n",
    "    elif x==2:\n",
    "        print(\"  *  \")\n",
    "    elif x==3:\n",
    "        print(\"  *\")\n",
    "    elif x==4:\n",
    "        print(\"  *\")\n",
    "    \n",
    "    x+=1    "
   ]
  },
  {
   "cell_type": "code",
   "execution_count": 55,
   "id": "f829fedc",
   "metadata": {},
   "outputs": [
    {
     "name": "stdout",
     "output_type": "stream",
     "text": [
      "* * *\n",
      "   *\n",
      "  *  \n",
      " *  \n",
      "* * *\n"
     ]
    }
   ],
   "source": [
    "x=0\n",
    "while x<5:\n",
    "    if x==0:\n",
    "        print(\"* * *\")\n",
    "    elif x==1:\n",
    "        print(\"   *\")\n",
    "    elif x==2:\n",
    "        print(\"  *  \")\n",
    "    elif x==3:\n",
    "        print(\" *  \")\n",
    "    elif x==4:\n",
    "        print(\"* * *\")\n",
    "    x+=1    "
   ]
  },
  {
   "cell_type": "code",
   "execution_count": null,
   "id": "48eeeeac",
   "metadata": {},
   "outputs": [],
   "source": []
  }
 ],
 "metadata": {
  "kernelspec": {
   "display_name": "Python 3 (ipykernel)",
   "language": "python",
   "name": "python3"
  },
  "language_info": {
   "codemirror_mode": {
    "name": "ipython",
    "version": 3
   },
   "file_extension": ".py",
   "mimetype": "text/x-python",
   "name": "python",
   "nbconvert_exporter": "python",
   "pygments_lexer": "ipython3",
   "version": "3.9.12"
  }
 },
 "nbformat": 4,
 "nbformat_minor": 5
}
