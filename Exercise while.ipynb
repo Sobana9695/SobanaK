{
 "cells": [
  {
   "cell_type": "markdown",
   "id": "713157b6",
   "metadata": {},
   "source": [
    "1. Create a string dynamically and print all even indexed element to upper case"
   ]
  },
  {
   "cell_type": "code",
   "execution_count": 7,
   "id": "d5a3fafb",
   "metadata": {},
   "outputs": [
    {
     "name": "stdout",
     "output_type": "stream",
     "text": [
      "Enter the string : monday\n",
      "M\n",
      "o\n",
      "N\n",
      "d\n",
      "A\n",
      "y\n"
     ]
    }
   ],
   "source": [
    "i=0\n",
    "x=input(\"Enter the string : \")\n",
    "l=len(x)\n",
    "while i<l:\n",
    "    if i%2==0:\n",
    "        print(x[i].upper())\n",
    "    elif i%2!=0:\n",
    "        print(x[i])\n",
    "    i+=1    "
   ]
  },
  {
   "cell_type": "markdown",
   "id": "0404c93b",
   "metadata": {},
   "source": [
    "2. Print data type of each element in list"
   ]
  },
  {
   "cell_type": "code",
   "execution_count": 11,
   "id": "7189d327",
   "metadata": {},
   "outputs": [
    {
     "name": "stdout",
     "output_type": "stream",
     "text": [
      "<class 'str'>\n",
      "<class 'int'>\n",
      "<class 'float'>\n",
      "<class 'str'>\n",
      "<class 'complex'>\n"
     ]
    }
   ],
   "source": [
    "i=0\n",
    "x=[\"a\",1,1.2,\"ab\",1+2j]\n",
    "l=len(x)\n",
    "while i<l:\n",
    "    print(type(x[i]))\n",
    "    i+=1"
   ]
  },
  {
   "cell_type": "markdown",
   "id": "34aee904",
   "metadata": {},
   "source": [
    "3. Combine all your string and sum of numbers in list"
   ]
  },
  {
   "cell_type": "code",
   "execution_count": 2,
   "id": "63c61d79",
   "metadata": {},
   "outputs": [],
   "source": [
    "s=[\"a\",\"b\",1,2,3,\"d\",\"e\",4]\n",
    "i=0\n",
    "z=\"\"\n",
    "n=0\n",
    "while i<len(s):\n",
    "    if str(s[i]).isalpha():\n",
    "        z=z+s[i]\n",
    "    else:\n",
    "        n=n+s[i]\n",
    "    i=i+1    \n",
    "    "
   ]
  },
  {
   "cell_type": "code",
   "execution_count": 3,
   "id": "1ca85344",
   "metadata": {},
   "outputs": [
    {
     "data": {
      "text/plain": [
       "'abde'"
      ]
     },
     "execution_count": 3,
     "metadata": {},
     "output_type": "execute_result"
    }
   ],
   "source": [
    "z"
   ]
  },
  {
   "cell_type": "code",
   "execution_count": 4,
   "id": "d87e1c0e",
   "metadata": {},
   "outputs": [
    {
     "data": {
      "text/plain": [
       "10"
      ]
     },
     "execution_count": 4,
     "metadata": {},
     "output_type": "execute_result"
    }
   ],
   "source": [
    "n"
   ]
  },
  {
   "cell_type": "markdown",
   "id": "ac0a90cc",
   "metadata": {},
   "source": [
    "4.Print unique elements from two list"
   ]
  },
  {
   "cell_type": "code",
   "execution_count": 5,
   "id": "d820471e",
   "metadata": {},
   "outputs": [
    {
     "data": {
      "text/plain": [
       "{1, 5, 6, 'a'}"
      ]
     },
     "execution_count": 5,
     "metadata": {},
     "output_type": "execute_result"
    }
   ],
   "source": [
    "l1=[1,2,\"a\",\"ab\",4,6]\n",
    "l2=[4,5,\"ab\",2]\n",
    "set(l1)^set(l2)"
   ]
  },
  {
   "cell_type": "markdown",
   "id": "cf2e30e3",
   "metadata": {},
   "source": [
    "5.Get string from user and print numbers in one string and alphabets in another string"
   ]
  },
  {
   "cell_type": "code",
   "execution_count": 8,
   "id": "440a63b1",
   "metadata": {},
   "outputs": [
    {
     "name": "stdout",
     "output_type": "stream",
     "text": [
      "Enter the string :abc123ef\n"
     ]
    }
   ],
   "source": [
    "x=input(\"Enter the string :\")\n",
    "i=0\n",
    "str=\"\"\n",
    "str1=\"\"\n",
    "while i<len(x):\n",
    "    if x[i].isdigit():\n",
    "        str=str+x[i]\n",
    "    else:\n",
    "        str1=str1+x[i]\n",
    "    i=i+1    \n"
   ]
  },
  {
   "cell_type": "code",
   "execution_count": 9,
   "id": "425c7eba",
   "metadata": {},
   "outputs": [
    {
     "data": {
      "text/plain": [
       "'123'"
      ]
     },
     "execution_count": 9,
     "metadata": {},
     "output_type": "execute_result"
    }
   ],
   "source": [
    "str"
   ]
  },
  {
   "cell_type": "code",
   "execution_count": 10,
   "id": "95a68c7a",
   "metadata": {},
   "outputs": [
    {
     "data": {
      "text/plain": [
       "'abcef'"
      ]
     },
     "execution_count": 10,
     "metadata": {},
     "output_type": "execute_result"
    }
   ],
   "source": [
    "str1"
   ]
  },
  {
   "cell_type": "code",
   "execution_count": null,
   "id": "bfbfaab8",
   "metadata": {},
   "outputs": [],
   "source": []
  }
 ],
 "metadata": {
  "kernelspec": {
   "display_name": "Python 3 (ipykernel)",
   "language": "python",
   "name": "python3"
  },
  "language_info": {
   "codemirror_mode": {
    "name": "ipython",
    "version": 3
   },
   "file_extension": ".py",
   "mimetype": "text/x-python",
   "name": "python",
   "nbconvert_exporter": "python",
   "pygments_lexer": "ipython3",
   "version": "3.9.12"
  }
 },
 "nbformat": 4,
 "nbformat_minor": 5
}
