{
 "cells": [
  {
   "cell_type": "markdown",
   "metadata": {},
   "source": [
    "# Assignment Instructions\n",
    "\n",
    "`Hello Innominion,`\n",
    "\n",
    "- **Try to attempt all the questions in every possible way.**\n",
    "- **Some other topics are required to solve some questions. don't panic.**\n",
    "- **Those questions can be answered after the topics are taught.**\n",
    "\n",
    "\n",
    "- `Join Mentoring Session for the Support/Doubts Resolving with Our Technical Mentors (2.00 PM - 6.00 PM  Mon-Sat)` \n",
    "\n",
    "Happy Learning !!!"
   ]
  },
  {
   "cell_type": "markdown",
   "metadata": {},
   "source": [
    "# Strings - Execrise"
   ]
  },
  {
   "cell_type": "code",
   "execution_count": null,
   "metadata": {},
   "outputs": [],
   "source": [
    "  Question: How many characters in text"
   ]
  },
  {
   "cell_type": "code",
   "execution_count": 1,
   "metadata": {},
   "outputs": [
    {
     "name": "stdout",
     "output_type": "stream",
     "text": [
      "1507\n"
     ]
    }
   ],
   "source": [
    "text = \"\"\"The University of Hawaii began using radio to send digital information as early as 1971,using ALOHAnet. \n",
    "Friedhelm Hillebrand conceptualised SMS in 1984 while working for Deutsche Telekom. Sitting at a typewriter at home, \n",
    "Hillebrand typed out random sentences and counted every letter, number, punctuation, and space. \n",
    "Almost every time, the messages contained fewer than 160 characters, thus giving the basis for the \n",
    "limit one could type via text messaging. With Bernard Ghillebaert of France Télécom, he developed \n",
    "a proposal for the GSM (Groupe Spécial Mobile) meeting in February 1985 in Oslo. \n",
    "The first technical solution evolved in a GSM subgroup under the leadership of Finn Trosby. \n",
    "It was further developed under the leadership of Kevin Holley and Ian Harris (see Short Message Service). \n",
    "SMS forms an integral part of SS7 (Signalling System No. 7). Under SS7, it is a \"state\" with a 160 character data, \n",
    "coded in the ITU-T \"T.56\" text format, that has a \"sequence lead in\" to determine different language codes, \n",
    "and may have special character codes that permits, for example, sending simple graphs as text. \n",
    "This was part of ISDN (Integrated Services Digital Network) and since GSM is based on this, \n",
    "made its way to the mobile phone. Messages could be sent and received on ISDN phones, \n",
    "and these can send SMS to any GSM phone. The possibility of doing something is one thing, \n",
    "implementing it another, but systems existed from 1988 that sent SMS messages to mobile phones (compare ND-NOTIS).\"\"\"\n",
    "print(len(text))"
   ]
  },
  {
   "cell_type": "markdown",
   "metadata": {},
   "source": [
    ">  `Question:` How many words are there in the \"text\""
   ]
  },
  {
   "cell_type": "code",
   "execution_count": 8,
   "metadata": {},
   "outputs": [
    {
     "data": {
      "text/plain": [
       "244"
      ]
     },
     "execution_count": 8,
     "metadata": {},
     "output_type": "execute_result"
    }
   ],
   "source": [
    "x=text.split()\n",
    "len(x)"
   ]
  },
  {
   "cell_type": "code",
   "execution_count": 9,
   "metadata": {},
   "outputs": [
    {
     "data": {
      "text/plain": [
       "['The',\n",
       " 'University',\n",
       " 'of',\n",
       " 'Hawaii',\n",
       " 'began',\n",
       " 'using',\n",
       " 'radio',\n",
       " 'to',\n",
       " 'send',\n",
       " 'digital',\n",
       " 'information',\n",
       " 'as',\n",
       " 'early',\n",
       " 'as',\n",
       " '1971,using',\n",
       " 'ALOHAnet.',\n",
       " 'Friedhelm',\n",
       " 'Hillebrand',\n",
       " 'conceptualised',\n",
       " 'SMS',\n",
       " 'in',\n",
       " '1984',\n",
       " 'while',\n",
       " 'working',\n",
       " 'for',\n",
       " 'Deutsche',\n",
       " 'Telekom.',\n",
       " 'Sitting',\n",
       " 'at',\n",
       " 'a',\n",
       " 'typewriter',\n",
       " 'at',\n",
       " 'home,',\n",
       " 'Hillebrand',\n",
       " 'typed',\n",
       " 'out',\n",
       " 'random',\n",
       " 'sentences',\n",
       " 'and',\n",
       " 'counted',\n",
       " 'every',\n",
       " 'letter,',\n",
       " 'number,',\n",
       " 'punctuation,',\n",
       " 'and',\n",
       " 'space.',\n",
       " 'Almost',\n",
       " 'every',\n",
       " 'time,',\n",
       " 'the',\n",
       " 'messages',\n",
       " 'contained',\n",
       " 'fewer',\n",
       " 'than',\n",
       " '160',\n",
       " 'characters,',\n",
       " 'thus',\n",
       " 'giving',\n",
       " 'the',\n",
       " 'basis',\n",
       " 'for',\n",
       " 'the',\n",
       " 'limit',\n",
       " 'one',\n",
       " 'could',\n",
       " 'type',\n",
       " 'via',\n",
       " 'text',\n",
       " 'messaging.',\n",
       " 'With',\n",
       " 'Bernard',\n",
       " 'Ghillebaert',\n",
       " 'of',\n",
       " 'France',\n",
       " 'Télécom,',\n",
       " 'he',\n",
       " 'developed',\n",
       " 'a',\n",
       " 'proposal',\n",
       " 'for',\n",
       " 'the',\n",
       " 'GSM',\n",
       " '(Groupe',\n",
       " 'Spécial',\n",
       " 'Mobile)',\n",
       " 'meeting',\n",
       " 'in',\n",
       " 'February',\n",
       " '1985',\n",
       " 'in',\n",
       " 'Oslo.',\n",
       " 'The',\n",
       " 'first',\n",
       " 'technical',\n",
       " 'solution',\n",
       " 'evolved',\n",
       " 'in',\n",
       " 'a',\n",
       " 'GSM',\n",
       " 'subgroup',\n",
       " 'under',\n",
       " 'the',\n",
       " 'leadership',\n",
       " 'of',\n",
       " 'Finn',\n",
       " 'Trosby.',\n",
       " 'It',\n",
       " 'was',\n",
       " 'further',\n",
       " 'developed',\n",
       " 'under',\n",
       " 'the',\n",
       " 'leadership',\n",
       " 'of',\n",
       " 'Kevin',\n",
       " 'Holley',\n",
       " 'and',\n",
       " 'Ian',\n",
       " 'Harris',\n",
       " '(see',\n",
       " 'Short',\n",
       " 'Message',\n",
       " 'Service).',\n",
       " 'SMS',\n",
       " 'forms',\n",
       " 'an',\n",
       " 'integral',\n",
       " 'part',\n",
       " 'of',\n",
       " 'SS7',\n",
       " '(Signalling',\n",
       " 'System',\n",
       " 'No.',\n",
       " '7).',\n",
       " 'Under',\n",
       " 'SS7,',\n",
       " 'it',\n",
       " 'is',\n",
       " 'a',\n",
       " '\"state\"',\n",
       " 'with',\n",
       " 'a',\n",
       " '160',\n",
       " 'character',\n",
       " 'data,',\n",
       " 'coded',\n",
       " 'in',\n",
       " 'the',\n",
       " 'ITU-T',\n",
       " '\"T.56\"',\n",
       " 'text',\n",
       " 'format,',\n",
       " 'that',\n",
       " 'has',\n",
       " 'a',\n",
       " '\"sequence',\n",
       " 'lead',\n",
       " 'in\"',\n",
       " 'to',\n",
       " 'determine',\n",
       " 'different',\n",
       " 'language',\n",
       " 'codes,',\n",
       " 'and',\n",
       " 'may',\n",
       " 'have',\n",
       " 'special',\n",
       " 'character',\n",
       " 'codes',\n",
       " 'that',\n",
       " 'permits,',\n",
       " 'for',\n",
       " 'example,',\n",
       " 'sending',\n",
       " 'simple',\n",
       " 'graphs',\n",
       " 'as',\n",
       " 'text.',\n",
       " 'This',\n",
       " 'was',\n",
       " 'part',\n",
       " 'of',\n",
       " 'ISDN',\n",
       " '(Integrated',\n",
       " 'Services',\n",
       " 'Digital',\n",
       " 'Network)',\n",
       " 'and',\n",
       " 'since',\n",
       " 'GSM',\n",
       " 'is',\n",
       " 'based',\n",
       " 'on',\n",
       " 'this,',\n",
       " 'made',\n",
       " 'its',\n",
       " 'way',\n",
       " 'to',\n",
       " 'the',\n",
       " 'mobile',\n",
       " 'phone.',\n",
       " 'Messages',\n",
       " 'could',\n",
       " 'be',\n",
       " 'sent',\n",
       " 'and',\n",
       " 'received',\n",
       " 'on',\n",
       " 'ISDN',\n",
       " 'phones,',\n",
       " 'and',\n",
       " 'these',\n",
       " 'can',\n",
       " 'send',\n",
       " 'SMS',\n",
       " 'to',\n",
       " 'any',\n",
       " 'GSM',\n",
       " 'phone.',\n",
       " 'The',\n",
       " 'possibility',\n",
       " 'of',\n",
       " 'doing',\n",
       " 'something',\n",
       " 'is',\n",
       " 'one',\n",
       " 'thing,',\n",
       " 'implementing',\n",
       " 'it',\n",
       " 'another,',\n",
       " 'but',\n",
       " 'systems',\n",
       " 'existed',\n",
       " 'from',\n",
       " '1988',\n",
       " 'that',\n",
       " 'sent',\n",
       " 'SMS',\n",
       " 'messages',\n",
       " 'to',\n",
       " 'mobile',\n",
       " 'phones',\n",
       " '(compare',\n",
       " 'ND-NOTIS).']"
      ]
     },
     "execution_count": 9,
     "metadata": {},
     "output_type": "execute_result"
    }
   ],
   "source": [
    "x"
   ]
  },
  {
   "cell_type": "markdown",
   "metadata": {},
   "source": [
    ">  `Question:` How many unique words in the \"text\""
   ]
  },
  {
   "cell_type": "code",
   "execution_count": 11,
   "metadata": {},
   "outputs": [
    {
     "data": {
      "text/plain": [
       "174"
      ]
     },
     "execution_count": 11,
     "metadata": {},
     "output_type": "execute_result"
    }
   ],
   "source": [
    "len(set(x))"
   ]
  },
  {
   "cell_type": "markdown",
   "metadata": {},
   "source": [
    ">  `Question:` Find Lexical diversity\n",
    "\n",
    "lexical_diversity = (number of words)/(number of unique words)"
   ]
  },
  {
   "cell_type": "code",
   "execution_count": 12,
   "metadata": {},
   "outputs": [
    {
     "data": {
      "text/plain": [
       "1.4022988505747127"
      ]
     },
     "execution_count": 12,
     "metadata": {},
     "output_type": "execute_result"
    }
   ],
   "source": [
    "l=len(x)/len(set(x))\n",
    "l"
   ]
  },
  {
   "cell_type": "markdown",
   "metadata": {},
   "source": [
    ">  `Question:` Count how many \"the\" in text"
   ]
  },
  {
   "cell_type": "code",
   "execution_count": 11,
   "metadata": {},
   "outputs": [
    {
     "data": {
      "text/plain": [
       "14"
      ]
     },
     "execution_count": 11,
     "metadata": {},
     "output_type": "execute_result"
    }
   ],
   "source": [
    "text.count('The')+text.count(\"the\")"
   ]
  },
  {
   "cell_type": "markdown",
   "metadata": {},
   "source": [
    ">  `Question:` Count how many \"a\" in text"
   ]
  },
  {
   "cell_type": "code",
   "execution_count": 12,
   "metadata": {},
   "outputs": [
    {
     "data": {
      "text/plain": [
       "92"
      ]
     },
     "execution_count": 12,
     "metadata": {},
     "output_type": "execute_result"
    }
   ],
   "source": [
    "text.count('a')+text.count(\"A\")"
   ]
  },
  {
   "cell_type": "markdown",
   "metadata": {},
   "source": [
    ">  `Question:` Extract First 10 words in text"
   ]
  },
  {
   "cell_type": "code",
   "execution_count": 13,
   "metadata": {},
   "outputs": [
    {
     "data": {
      "text/plain": [
       "'The University of Hawaii began using radio to send digital '"
      ]
     },
     "execution_count": 13,
     "metadata": {},
     "output_type": "execute_result"
    }
   ],
   "source": [
    "text[0:59]"
   ]
  },
  {
   "cell_type": "markdown",
   "metadata": {},
   "source": [
    ">  `Question:` Append \" Innomatics Reseach Labs\" after first 10 words in the text"
   ]
  },
  {
   "cell_type": "code",
   "execution_count": 2,
   "metadata": {},
   "outputs": [
    {
     "data": {
      "text/plain": [
       "'The University of Hawaii began using radio to send digital Innomatics Reseach Labs'"
      ]
     },
     "execution_count": 2,
     "metadata": {},
     "output_type": "execute_result"
    }
   ],
   "source": [
    "c=\"Innomatics Reseach Labs\"\n",
    "text[0:59]+c"
   ]
  },
  {
   "cell_type": "markdown",
   "metadata": {},
   "source": [
    ">  `Question:` Extract First Fourteen (14) character in text"
   ]
  },
  {
   "cell_type": "code",
   "execution_count": 15,
   "metadata": {},
   "outputs": [
    {
     "data": {
      "text/plain": [
       "'The University'"
      ]
     },
     "execution_count": 15,
     "metadata": {},
     "output_type": "execute_result"
    }
   ],
   "source": [
    "text[0:14]"
   ]
  },
  {
   "cell_type": "markdown",
   "metadata": {},
   "source": [
    ">  `Question:` Extract first Fourteen (14) words in text"
   ]
  },
  {
   "cell_type": "code",
   "execution_count": 17,
   "metadata": {},
   "outputs": [
    {
     "data": {
      "text/plain": [
       "'The University of Hawaii began using radio to send digital information as early as '"
      ]
     },
     "execution_count": 17,
     "metadata": {},
     "output_type": "execute_result"
    }
   ],
   "source": [
    "text[0:83]\n"
   ]
  },
  {
   "cell_type": "markdown",
   "metadata": {},
   "source": [
    ">  `Question:` Extract First 10 words in text\n",
    "- Convert every letter into ***upper*** case\n",
    "- Convert every letter into ***lower*** case"
   ]
  },
  {
   "cell_type": "code",
   "execution_count": 49,
   "metadata": {},
   "outputs": [
    {
     "data": {
      "text/plain": [
       "'THE UNIVERSITY OF HAWAII BEGAN USING RADIO TO SEND DIGITAL'"
      ]
     },
     "execution_count": 49,
     "metadata": {},
     "output_type": "execute_result"
    }
   ],
   "source": [
    "c.upper()"
   ]
  },
  {
   "cell_type": "code",
   "execution_count": 50,
   "metadata": {},
   "outputs": [
    {
     "data": {
      "text/plain": [
       "'the university of hawaii began using radio to send digital'"
      ]
     },
     "execution_count": 50,
     "metadata": {},
     "output_type": "execute_result"
    }
   ],
   "source": [
    "c.lower()"
   ]
  },
  {
   "cell_type": "markdown",
   "metadata": {},
   "source": [
    ">  `Question:`  Find the list of letter starting with \n",
    "- u\n",
    "- o\n",
    "> `hint - You need to use for loop for this`"
   ]
  },
  {
   "cell_type": "code",
   "execution_count": 4,
   "metadata": {},
   "outputs": [
    {
     "name": "stdout",
     "output_type": "stream",
     "text": [
      "List of words startswith u are,\n",
      "{'using', 'University', 'under', 'Under'}\n"
     ]
    }
   ],
   "source": [
    "\n",
    "s=text.split()\n",
    "l=[]\n",
    "a=len(s)\n",
    "for y in s:\n",
    "    if y.startswith(\"u\") or y.startswith(\"U\"):\n",
    "        l.append(y)\n",
    "print(\"List of words startswith u are,\",end=\"\\n\")\n",
    "print(set(l))"
   ]
  },
  {
   "cell_type": "code",
   "execution_count": 3,
   "metadata": {},
   "outputs": [
    {
     "name": "stdout",
     "output_type": "stream",
     "text": [
      "List of words startswith u are,\n",
      "{'of', 'Oslo.', 'out', 'one', 'on'}\n"
     ]
    }
   ],
   "source": [
    "s=text.split()\n",
    "l=[]\n",
    "a=len(s)\n",
    "y=0\n",
    "while y<a:\n",
    "    if s[y].startswith(\"o\") or s[y].startswith(\"O\"):\n",
    "        l.append(s[y])\n",
    "    y=y+1    \n",
    "print(\"List of words startswith u are,\",end=\"\\n\")\n",
    "print(set(l))"
   ]
  },
  {
   "cell_type": "markdown",
   "metadata": {},
   "source": [
    ">  `Question:` Find the list of letter ending with \n",
    "- e\n",
    "- n\n",
    "> `hint - You need to use for loop for this`"
   ]
  },
  {
   "cell_type": "code",
   "execution_count": 4,
   "metadata": {},
   "outputs": [
    {
     "name": "stdout",
     "output_type": "stream",
     "text": [
      "List of words startswith u are,\n",
      "{'type', 'since', 'these', 'he', 'simple', 'determine', 'one', 'language', 'France', 'have', '\"sequence', '(compare', '(Groupe', 'Deutsche', 'Message', 'made', 'mobile', 'be', '(see', 'The', 'while', 'the'}\n"
     ]
    }
   ],
   "source": [
    "s=text.split()\n",
    "l=[]\n",
    "a=len(s)\n",
    "for y in s:\n",
    "    if y.endswith(\"e\"):\n",
    "        l.append(y)\n",
    "print(\"List of words startswith u are,\",end=\"\\n\")\n",
    "print(set(l))"
   ]
  },
  {
   "cell_type": "code",
   "execution_count": 5,
   "metadata": {},
   "outputs": [
    {
     "name": "stdout",
     "output_type": "stream",
     "text": [
      "List of words startswith u are,\n",
      "{'Kevin', 'in', 'Ian', 'can', 'solution', 'information', 'an', 'Finn', 'began', 'than', 'on'}\n"
     ]
    }
   ],
   "source": [
    "s=text.split()\n",
    "l=[]\n",
    "a=len(s)\n",
    "for y in s:\n",
    "    if y.endswith(\"n\"):\n",
    "        l.append(y)\n",
    "print(\"List of words startswith u are,\",end=\"\\n\")\n",
    "print(set(l))"
   ]
  },
  {
   "cell_type": "markdown",
   "metadata": {},
   "source": [
    ">  `Question:` Extract first 10 words of text and Capitalize first letter of each word"
   ]
  },
  {
   "cell_type": "code",
   "execution_count": 51,
   "metadata": {},
   "outputs": [
    {
     "data": {
      "text/plain": [
       "'The University Of Hawaii Began Using Radio To Send Digital'"
      ]
     },
     "execution_count": 51,
     "metadata": {},
     "output_type": "execute_result"
    }
   ],
   "source": [
    "c.title()"
   ]
  },
  {
   "cell_type": "markdown",
   "metadata": {},
   "source": [
    ">  `Question:` Replace the word \"University\" with name \"Innomatics\" in text"
   ]
  },
  {
   "cell_type": "code",
   "execution_count": 13,
   "metadata": {},
   "outputs": [
    {
     "data": {
      "text/plain": [
       "'The Innomatics of Hawaii began using radio to send digital information as early as 1971,using ALOHAnet. \\nFriedhelm Hillebrand conceptualised SMS in 1984 while working for Deutsche Telekom. Sitting at a typewriter at home, \\nHillebrand typed out random sentences and counted every letter, number, punctuation, and space. \\nAlmost every time, the messages contained fewer than 160 characters, thus giving the basis for the \\nlimit one could type via text messaging. With Bernard Ghillebaert of France Télécom, he developed \\na proposal for the GSM (Groupe Spécial Mobile) meeting in February 1985 in Oslo. \\nThe first technical solution evolved in a GSM subgroup under the leadership of Finn Trosby. \\nIt was further developed under the leadership of Kevin Holley and Ian Harris (see Short Message Service). \\nSMS forms an integral part of SS7 (Signalling System No. 7). Under SS7, it is a \"state\" with a 160 character data, \\ncoded in the ITU-T \"T.56\" text format, that has a \"sequence lead in\" to determine different language codes, \\nand may have special character codes that permits, for example, sending simple graphs as text. \\nThis was part of ISDN (Integrated Services Digital Network) and since GSM is based on this, \\nmade its way to the mobile phone. Messages could be sent and received on ISDN phones, \\nand these can send SMS to any GSM phone. The possibility of doing something is one thing, \\nimplementing it another, but systems existed from 1988 that sent SMS messages to mobile phones (compare ND-NOTIS).'"
      ]
     },
     "execution_count": 13,
     "metadata": {},
     "output_type": "execute_result"
    }
   ],
   "source": [
    "text.replace(\"University\",\"Innomatics\")"
   ]
  },
  {
   "cell_type": "markdown",
   "metadata": {},
   "source": [
    "> `Question:`  Convert the \"text\" into sentances and store those into one variable called \"sentance\""
   ]
  },
  {
   "cell_type": "code",
   "execution_count": 6,
   "metadata": {},
   "outputs": [
    {
     "data": {
      "text/plain": [
       "['The University of Hawaii began using radio to send digital information as early as 1971,using ALOHAnet',\n",
       " ' \\nFriedhelm Hillebrand conceptualised SMS in 1984 while working for Deutsche Telekom',\n",
       " ' Sitting at a typewriter at home, \\nHillebrand typed out random sentences and counted every letter, number, punctuation, and space',\n",
       " ' \\nAlmost every time, the messages contained fewer than 160 characters, thus giving the basis for the \\nlimit one could type via text messaging',\n",
       " ' With Bernard Ghillebaert of France Télécom, he developed \\na proposal for the GSM (Groupe Spécial Mobile) meeting in February 1985 in Oslo',\n",
       " ' \\nThe first technical solution evolved in a GSM subgroup under the leadership of Finn Trosby',\n",
       " ' \\nIt was further developed under the leadership of Kevin Holley and Ian Harris (see Short Message Service)',\n",
       " ' \\nSMS forms an integral part of SS7 (Signalling System No',\n",
       " ' 7)',\n",
       " ' Under SS7, it is a \"state\" with a 160 character data, \\ncoded in the ITU-T \"T',\n",
       " '56\" text format, that has a \"sequence lead in\" to determine different language codes, \\nand may have special character codes that permits, for example, sending simple graphs as text',\n",
       " ' \\nThis was part of ISDN (Integrated Services Digital Network) and since GSM is based on this, \\nmade its way to the mobile phone',\n",
       " ' Messages could be sent and received on ISDN phones, \\nand these can send SMS to any GSM phone',\n",
       " ' The possibility of doing something is one thing, \\nimplementing it another, but systems existed from 1988 that sent SMS messages to mobile phones (compare ND-NOTIS)',\n",
       " '']"
      ]
     },
     "execution_count": 6,
     "metadata": {},
     "output_type": "execute_result"
    }
   ],
   "source": [
    "text\n",
    "text.split(\".\")"
   ]
  },
  {
   "cell_type": "markdown",
   "metadata": {},
   "source": [
    " `Question:`\n",
    " \n",
    "> 1.From the above sentance remove '\\n'\n"
   ]
  },
  {
   "cell_type": "code",
   "execution_count": 18,
   "metadata": {},
   "outputs": [
    {
     "data": {
      "text/plain": [
       "'The University of Hawaii began using radio to send digital information as early as 1971,using ALOHAnet.  Friedhelm Hillebrand conceptualised SMS in 1984 while working for Deutsche Telekom. Sitting at a typewriter at home,  Hillebrand typed out random sentences and counted every letter, number, punctuation, and space.  Almost every time, the messages contained fewer than 160 characters, thus giving the basis for the  limit one could type via text messaging. With Bernard Ghillebaert of France Télécom, he developed  a proposal for the GSM (Groupe Spécial Mobile) meeting in February 1985 in Oslo.  The first technical solution evolved in a GSM subgroup under the leadership of Finn Trosby.  It was further developed under the leadership of Kevin Holley and Ian Harris (see Short Message Service).  SMS forms an integral part of SS7 (Signalling System No. 7). Under SS7, it is a \"state\" with a 160 character data,  coded in the ITU-T \"T.56\" text format, that has a \"sequence lead in\" to determine different language codes,  and may have special character codes that permits, for example, sending simple graphs as text.  This was part of ISDN (Integrated Services Digital Network) and since GSM is based on this,  made its way to the mobile phone. Messages could be sent and received on ISDN phones,  and these can send SMS to any GSM phone. The possibility of doing something is one thing,  implementing it another, but systems existed from 1988 that sent SMS messages to mobile phones (compare ND-NOTIS).'"
      ]
     },
     "execution_count": 18,
     "metadata": {},
     "output_type": "execute_result"
    }
   ],
   "source": [
    "x=text.maketrans(\"\\n\",\" \")\n",
    "text.translate(x)"
   ]
  },
  {
   "cell_type": "markdown",
   "metadata": {},
   "source": [
    " > 2. From the above sentace print the first word from each sentance\n"
   ]
  },
  {
   "cell_type": "code",
   "execution_count": 7,
   "metadata": {},
   "outputs": [],
   "source": [
    "text = \"\"\"The University of Hawaii began using radio to send digital information as early as 1971,using ALOHAnet.Friedhelm Hillebrand conceptualised SMS in 1984 while working for Deutsche Telekom.Sitting at a typewriter at home, \n",
    "Hillebrand typed out random sentences and counted every letter, number, punctuation, and space.Almost every time, the messages contained fewer than 160 characters, thus giving the basis for the \n",
    "limit one could type via text messaging.With Bernard Ghillebaert of France Télécom, he developed \n",
    "a proposal for the GSM (Groupe Spécial Mobile) meeting in February 1985 in Oslo.The first technical solution evolved in a GSM subgroup under the leadership of Finn Trosby. \n",
    "It was further developed under the leadership of Kevin Holley and Ian Harris (see Short Message Service).SMS forms an integral part of SS7 (Signalling System No. 7). Under SS7, it is a \"state\" with a 160 character data, \n",
    "coded in the ITU-T \"T.56\" text format, that has a \"sequence lead in\" to determine different language codes, \n",
    "and may have special character codes that permits, for example, sending simple graphs as text.This was part of ISDN (Integrated Services Digital Network) and since GSM is based on this, \n",
    "made its way to the mobile phone. Messages could be sent and received on ISDN phones, \n",
    "and these can send SMS to any GSM phone.The possibility of doing something is one thing, \n",
    "implementing it another, but systems existed from 1988 that sent SMS messages to mobile phones (compare ND-NOTIS).\"\"\""
   ]
  },
  {
   "cell_type": "code",
   "execution_count": 8,
   "metadata": {},
   "outputs": [
    {
     "name": "stdout",
     "output_type": "stream",
     "text": [
      "The\n",
      "Friedhelm\n",
      "Sitting\n",
      "Almost\n",
      "With\n",
      "The\n",
      "\n",
      "SMS\n",
      "\n",
      "\n",
      "56\"\n",
      "This\n",
      "\n",
      "The\n",
      "\n"
     ]
    }
   ],
   "source": [
    "for a in text.split(\".\"):\n",
    "    l=a.split(\" \")\n",
    "    print(l[0])"
   ]
  },
  {
   "cell_type": "markdown",
   "metadata": {},
   "source": [
    "> 3. From the above sentace print even posioned sentances"
   ]
  },
  {
   "cell_type": "code",
   "execution_count": 14,
   "metadata": {},
   "outputs": [
    {
     "name": "stdout",
     "output_type": "stream",
     "text": [
      "The University of Hawaii began using radio to send digital information as early as 1971,using ALOHAnet.\n",
      "Sitting at a typewriter at home, \n",
      "Hillebrand typed out random sentences and counted every letter, number, punctuation, and space.\n",
      "With Bernard Ghillebaert of France Télécom, he developed \n",
      "a proposal for the GSM (Groupe Spécial Mobile) meeting in February 1985 in Oslo.\n",
      " \n",
      "It was further developed under the leadership of Kevin Holley and Ian Harris (see Short Message Service).\n",
      " 7).\n",
      "56\" text format, that has a \"sequence lead in\" to determine different language codes, \n",
      "and may have special character codes that permits, for example, sending simple graphs as text.\n",
      " Messages could be sent and received on ISDN phones, \n",
      "and these can send SMS to any GSM phone.\n",
      ".\n"
     ]
    }
   ],
   "source": [
    "a=text.split(\".\")\n",
    "l=list(a)\n",
    "b=len(l)\n",
    "a=0\n",
    "while a<b:\n",
    "    if a%2==0:\n",
    "        print(l[a],end=\".\\n\")\n",
    "    a=a+1"
   ]
  },
  {
   "cell_type": "markdown",
   "metadata": {},
   "source": [
    ">   `Question:` If the following string is given as input to the program:\n",
    "\n",
    "- H1e2l3l4o5w6o7r8l9d\n",
    "\n",
    ">   `Output:`  Then, the output of the program should be:\n",
    "\n",
    "- Helloworld"
   ]
  },
  {
   "cell_type": "code",
   "execution_count": 3,
   "metadata": {},
   "outputs": [],
   "source": [
    "x=\"H1e2l3l4o5w6o7r8l9d\"\n",
    "i=0\n",
    "z=\"\"\n",
    "while i<len(x):\n",
    "    if str(x[i]).isalpha():\n",
    "        z=z+x[i]\n",
    "    i=i+1    \n",
    "    \n"
   ]
  },
  {
   "cell_type": "code",
   "execution_count": 4,
   "metadata": {},
   "outputs": [
    {
     "data": {
      "text/plain": [
       "'Helloworld'"
      ]
     },
     "execution_count": 4,
     "metadata": {},
     "output_type": "execute_result"
    }
   ],
   "source": [
    "z"
   ]
  },
  {
   "cell_type": "markdown",
   "metadata": {},
   "source": [
    "# [Innomatics Research Labs](https:/innomatics.in/)\n",
    "[www.innomatics.in](https:/innomatics.in/)"
   ]
  },
  {
   "cell_type": "code",
   "execution_count": null,
   "metadata": {},
   "outputs": [],
   "source": []
  }
 ],
 "metadata": {
  "kernelspec": {
   "display_name": "Python 3 (ipykernel)",
   "language": "python",
   "name": "python3"
  },
  "language_info": {
   "codemirror_mode": {
    "name": "ipython",
    "version": 3
   },
   "file_extension": ".py",
   "mimetype": "text/x-python",
   "name": "python",
   "nbconvert_exporter": "python",
   "pygments_lexer": "ipython3",
   "version": "3.9.12"
  }
 },
 "nbformat": 4,
 "nbformat_minor": 2
}
