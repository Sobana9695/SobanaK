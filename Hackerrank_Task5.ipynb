{
 "cells": [
  {
   "cell_type": "markdown",
   "id": "b20320a4",
   "metadata": {},
   "source": [
    "# Detect floating point numbers"
   ]
  },
  {
   "cell_type": "code",
   "execution_count": null,
   "id": "aa7bf45c",
   "metadata": {},
   "outputs": [],
   "source": [
    "import re\n",
    "for _ in range(int(input())):\n",
    "    print(re.search(r'^([-\\+])?\\d*\\.\\d+$', input()) is not None)"
   ]
  },
  {
   "cell_type": "markdown",
   "id": "6a83734f",
   "metadata": {},
   "source": [
    "# re.split"
   ]
  },
  {
   "cell_type": "code",
   "execution_count": null,
   "id": "4f2f3caa",
   "metadata": {},
   "outputs": [],
   "source": [
    "regex_pattern=r\"[.,]+\"\n",
    "import re\n",
    "print(\"\\n\".join(re.split(regex_pattern, input())))"
   ]
  },
  {
   "cell_type": "markdown",
   "id": "89d43b70",
   "metadata": {},
   "source": [
    "# re.findall"
   ]
  },
  {
   "cell_type": "code",
   "execution_count": null,
   "id": "9ba3cabc",
   "metadata": {},
   "outputs": [],
   "source": [
    "import re\n",
    "v = \"aeiou\"\n",
    "c = \"qwrtypsdfghjklzxcvbnm\"\n",
    "m = re.findall(r\"(?<=[%s])([%s]{2,})[%s]\" % (c, v, c), input(), flags = re.I)\n",
    "print('\\n'.join(m or ['-1']))"
   ]
  },
  {
   "cell_type": "markdown",
   "id": "7405551f",
   "metadata": {},
   "source": [
    "# re.start() end()"
   ]
  },
  {
   "cell_type": "code",
   "execution_count": null,
   "id": "30a977e2",
   "metadata": {},
   "outputs": [],
   "source": [
    "S = input()\n",
    "k = input()\n",
    "import re\n",
    "pattern = re.compile(k)\n",
    "r = pattern.search(S)\n",
    "if not r: print(\"(-1, -1)\")\n",
    "while r:\n",
    "    print(\"({0}, {1})\".format(r.start(), r.end() - 1))\n",
    "    r = pattern.search(S,r.start() + 1)"
   ]
  },
  {
   "cell_type": "markdown",
   "id": "5eb51706",
   "metadata": {},
   "source": [
    "# re.substitution"
   ]
  },
  {
   "cell_type": "code",
   "execution_count": null,
   "id": "5e3d1dba",
   "metadata": {},
   "outputs": [],
   "source": [
    "import re\n",
    "\n",
    "inp = int(input())\n",
    "\n",
    "for i in range(0,inp):\n",
    "   txt = input()\n",
    "   txt = re.sub(r\"\\ \\&\\&\\ \",\" and \",txt)\n",
    "   txt = re.sub(r\"\\ \\|\\|\\ \",\" or \",txt)\n",
    "   txt = re.sub(r\"\\ \\&\\&\\ \",\" and \",txt)\n",
    "   txt = re.sub(r\"\\ \\|\\|\\ \",\" or \",txt)\n",
    "   print(txt)"
   ]
  }
 ],
 "metadata": {
  "kernelspec": {
   "display_name": "Python 3 (ipykernel)",
   "language": "python",
   "name": "python3"
  },
  "language_info": {
   "codemirror_mode": {
    "name": "ipython",
    "version": 3
   },
   "file_extension": ".py",
   "mimetype": "text/x-python",
   "name": "python",
   "nbconvert_exporter": "python",
   "pygments_lexer": "ipython3",
   "version": "3.9.13"
  }
 },
 "nbformat": 4,
 "nbformat_minor": 5
}
