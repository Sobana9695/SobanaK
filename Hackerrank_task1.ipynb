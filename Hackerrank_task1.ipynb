{
 "cells": [
  {
   "cell_type": "markdown",
   "id": "a6834e5f",
   "metadata": {},
   "source": [
    "# print(\"Hello, World!\")"
   ]
  },
  {
   "cell_type": "code",
   "execution_count": 1,
   "id": "1412c38c",
   "metadata": {},
   "outputs": [
    {
     "name": "stdout",
     "output_type": "stream",
     "text": [
      "Hello, World!\n"
     ]
    }
   ],
   "source": [
    "my_string=\"Hello, World!\"\n",
    "print(my_string)"
   ]
  },
  {
   "cell_type": "markdown",
   "id": "7c4c82d9",
   "metadata": {},
   "source": [
    "# Given an integer, , perform the following conditional actions:\n",
    "\n",
    "If  is odd, print Weird\n",
    "If  is even and in the inclusive range of  2 to 5, print Not Weird\n",
    "If  is even and in the inclusive range of  6 to 20 , print Weird\n",
    "If  is even and greater than 20, print Not Weird"
   ]
  },
  {
   "cell_type": "code",
   "execution_count": 12,
   "id": "a834c545",
   "metadata": {},
   "outputs": [
    {
     "name": "stdout",
     "output_type": "stream",
     "text": [
      "7\n",
      "Weird\n"
     ]
    }
   ],
   "source": [
    "import sys\n",
    "\n",
    "n = int(input())\n",
    "\n",
    "if n % 2 != 0:\n",
    "    print (\"Weird\")\n",
    "else:\n",
    "    if n >= 2 and n <= 5:\n",
    "        print (\"Not Weird\")\n",
    "    elif n >= 6 and n <= 20:\n",
    "        print (\"Weird\")\n",
    "    elif n > 20:\n",
    "        print (\"Not Weird\")   \n",
    "        "
   ]
  },
  {
   "cell_type": "markdown",
   "id": "066e8b50",
   "metadata": {},
   "source": [
    "# The first line contains the sum of the two numbers.\n",
    "The second line contains the difference of the two numbers (first - second).\n",
    "The third line contains the product of the two numbers."
   ]
  },
  {
   "cell_type": "code",
   "execution_count": 14,
   "id": "4a3f076e",
   "metadata": {},
   "outputs": [
    {
     "name": "stdout",
     "output_type": "stream",
     "text": [
      "5\n",
      "3\n",
      "------\n",
      "8\n",
      "2\n",
      "15\n"
     ]
    }
   ],
   "source": [
    "a = int(input())\n",
    "b = int(input())\n",
    "print(\"------\")\n",
    "print (a + b)\n",
    "print (a - b)\n",
    "print (a * b) "
   ]
  },
  {
   "cell_type": "markdown",
   "id": "ee357268",
   "metadata": {},
   "source": [
    "# Add logic to print two lines. The first line should contain the result of integer division,  a//b . The second line should contain the result of float division, a /b ."
   ]
  },
  {
   "cell_type": "code",
   "execution_count": 15,
   "id": "5d75e195",
   "metadata": {},
   "outputs": [
    {
     "name": "stdout",
     "output_type": "stream",
     "text": [
      "3\n",
      "5\n",
      "0\n",
      "0.6\n"
     ]
    }
   ],
   "source": [
    "a = int(input())\n",
    "b = int(input())\n",
    "print(a//b)\n",
    "print(a/b)"
   ]
  },
  {
   "cell_type": "code",
   "execution_count": 16,
   "id": "85fcbe2d",
   "metadata": {},
   "outputs": [
    {
     "name": "stdout",
     "output_type": "stream",
     "text": [
      "Enter the no.:5\n",
      "0\n",
      "1\n",
      "4\n",
      "9\n",
      "16\n"
     ]
    }
   ],
   "source": [
    "n = int(input(\"Enter the no.:\"))\n",
    "for i in range(0,n):\n",
    "    print(i*i)"
   ]
  },
  {
   "cell_type": "markdown",
   "id": "f65549e9",
   "metadata": {},
   "source": [
    "# The provided code stub reads and integer,n , from STDIN. For all non-negative integers i <n, print i2."
   ]
  },
  {
   "cell_type": "code",
   "execution_count": 17,
   "id": "50b652b4",
   "metadata": {},
   "outputs": [
    {
     "name": "stdout",
     "output_type": "stream",
     "text": [
      "5\n",
      "0\n",
      "1\n",
      "4\n",
      "9\n",
      "16\n"
     ]
    }
   ],
   "source": [
    "if __name__ == '__main__':\n",
    "    n = int(input())\n",
    "    for i in range(0, n):\n",
    "        print(i ** 2)"
   ]
  },
  {
   "cell_type": "markdown",
   "id": "e619032e",
   "metadata": {},
   "source": [
    "# leap year or not"
   ]
  },
  {
   "cell_type": "code",
   "execution_count": 20,
   "id": "d94ba87d",
   "metadata": {},
   "outputs": [
    {
     "name": "stdout",
     "output_type": "stream",
     "text": [
      "2020\n",
      "True\n"
     ]
    }
   ],
   "source": [
    "def is_leap(year):\n",
    "    leap = False\n",
    "    if (year % 400 == 0) and (year % 100 == 0):\n",
    "        leap = True\n",
    "    elif (year % 4 ==0) and (year % 100 != 0):\n",
    "        leap = True\n",
    "\n",
    "    #else not a leap year\n",
    "    else:      \n",
    "        pass\n",
    "    \n",
    "    return leap\n",
    "    \n",
    "    \n",
    "\n",
    "year = int(input())\n",
    "print(is_leap(year))"
   ]
  },
  {
   "cell_type": "markdown",
   "id": "46d6d70f",
   "metadata": {},
   "source": [
    "# print 1 to n"
   ]
  },
  {
   "cell_type": "code",
   "execution_count": 21,
   "id": "fabd7431",
   "metadata": {},
   "outputs": [
    {
     "name": "stdout",
     "output_type": "stream",
     "text": [
      "5\n",
      "1234"
     ]
    }
   ],
   "source": [
    "if __name__ == '__main__':\n",
    "    n = int(input())\n",
    "    for i in range(1,n+1):\n",
    "        print(i,end=\"\")"
   ]
  },
  {
   "cell_type": "code",
   "execution_count": null,
   "id": "e89e5923",
   "metadata": {},
   "outputs": [],
   "source": []
  }
 ],
 "metadata": {
  "kernelspec": {
   "display_name": "Python 3 (ipykernel)",
   "language": "python",
   "name": "python3"
  },
  "language_info": {
   "codemirror_mode": {
    "name": "ipython",
    "version": 3
   },
   "file_extension": ".py",
   "mimetype": "text/x-python",
   "name": "python",
   "nbconvert_exporter": "python",
   "pygments_lexer": "ipython3",
   "version": "3.9.13"
  }
 },
 "nbformat": 4,
 "nbformat_minor": 5
}
