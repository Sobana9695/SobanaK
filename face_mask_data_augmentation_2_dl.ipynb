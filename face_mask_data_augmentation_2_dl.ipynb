{
 "cells": [
  {
   "cell_type": "markdown",
   "id": "05a34bfb",
   "metadata": {},
   "source": [
    "# use data augmentation when we have small dataset,small invariance,reduce overfit"
   ]
  },
  {
   "cell_type": "code",
   "execution_count": 8,
   "id": "ff019489",
   "metadata": {},
   "outputs": [],
   "source": [
    "import numpy as np\n",
    "from keras.models import Sequential\n",
    "from keras.layers import Dense,Activation,Flatten,Dropout\n",
    "from keras.layers import Conv2D,MaxPooling2D"
   ]
  },
  {
   "cell_type": "code",
   "execution_count": 2,
   "id": "337abe47",
   "metadata": {},
   "outputs": [],
   "source": [
    "from keras.preprocessing.image import ImageDataGenerator  # preprocess image by class ImageDataGenerator-->to generate multiple image in train,not generating image in test ,validation\n",
    "#import keras.utils as image\n",
    "import matplotlib.pyplot as plt\n",
    "import cv2"
   ]
  },
  {
   "cell_type": "code",
   "execution_count": 3,
   "id": "2e875aff",
   "metadata": {},
   "outputs": [
    {
     "name": "stdout",
     "output_type": "stream",
     "text": [
      "Found 5000 images belonging to 2 classes.\n",
      "Found 2553 images belonging to 2 classes.\n"
     ]
    }
   ],
   "source": [
    "\n",
    "train_data=ImageDataGenerator(  # ImageDataGenerator have invariance such as rescale etc\n",
    "rescale=1./255,  # normalization  # transformation technique\n",
    "zoom_range=0.2,   #<1-zoom in,>1-zoom out\n",
    "shear_range=0.2,  \n",
    "rotation_range=20,\n",
    ")\n",
    "\n",
    "# above code generate ImageDataGenerator object\n",
    "# below is main generator\n",
    "\n",
    "train_g=train_data.flow_from_directory(   # flow used for single image only,if u have multiple image in directory use flow_from_directory\n",
    "r\"D:\\deep learning\\mask\\archive (4)\\data\\ds\\train\",\n",
    "target_size=(200,200),  # change all image size to 200,200 ,generate image in train\n",
    "batch_size=16,   # each batch have 16 generated image\n",
    "class_mode=\"categorical\")   # if binary-no need to convert to one hot ,use sigmoid,if muticlass-categorical, use softmax\n",
    "\n",
    "\n",
    "# generator send transformed image to ur model at training time\n",
    "\n",
    "validation_data=ImageDataGenerator(rescale=1./255)  # in validation,test only using rescaling\n",
    "\n",
    "validation_gen=validation_data.flow_from_directory(\n",
    "r\"D:\\deep learning\\mask\\archive (4)\\data\\ds\\validation\",\n",
    "target_size=(200,200),\n",
    "batch_size=16,\n",
    "class_mode=\"categorical\")"
   ]
  },
  {
   "cell_type": "code",
   "execution_count": null,
   "id": "f74d3bd5",
   "metadata": {},
   "outputs": [],
   "source": [
    "# whenevr u do transformation ur image is missing in some portion for that fill with nearest ie fill_mode=\"nearest\""
   ]
  },
  {
   "cell_type": "code",
   "execution_count": 11,
   "id": "b1d2f623",
   "metadata": {},
   "outputs": [],
   "source": [
    "model=Sequential()\n",
    "\n",
    "model.add(Conv2D(200,(3,3),input_shape=(200,200,3)))\n",
    "model.add(Activation(\"relu\"))\n",
    "model.add(MaxPooling2D(pool_size=(2,2)))\n",
    "\n",
    "model.add(Conv2D(100,(3,3)))\n",
    "model.add(Activation('relu'))\n",
    "model.add(MaxPooling2D(pool_size=(2,2)))\n",
    "\n",
    "model.add(Flatten())\n",
    "model.add(Dropout(0.5))\n",
    "model.add(Dense(50,activation=\"relu\"))\n",
    "\n",
    "model.add(Dense(2,activation=\"softmax\"))\n",
    "\n",
    "model.compile(optimizer='adam',loss='categorical_crossentropy',metrics=['accuracy'])"
   ]
  },
  {
   "cell_type": "code",
   "execution_count": 12,
   "id": "2ac3d68e",
   "metadata": {},
   "outputs": [
    {
     "name": "stdout",
     "output_type": "stream",
     "text": [
      "Model: \"sequential_5\"\n",
      "_________________________________________________________________\n",
      " Layer (type)                Output Shape              Param #   \n",
      "=================================================================\n",
      " conv2d_2 (Conv2D)           (None, 198, 198, 200)     5600      \n",
      "                                                                 \n",
      " activation_2 (Activation)   (None, 198, 198, 200)     0         \n",
      "                                                                 \n",
      " max_pooling2d_2 (MaxPooling  (None, 99, 99, 200)      0         \n",
      " 2D)                                                             \n",
      "                                                                 \n",
      " conv2d_3 (Conv2D)           (None, 97, 97, 100)       180100    \n",
      "                                                                 \n",
      " activation_3 (Activation)   (None, 97, 97, 100)       0         \n",
      "                                                                 \n",
      " max_pooling2d_3 (MaxPooling  (None, 48, 48, 100)      0         \n",
      " 2D)                                                             \n",
      "                                                                 \n",
      " flatten_1 (Flatten)         (None, 230400)            0         \n",
      "                                                                 \n",
      " dropout_1 (Dropout)         (None, 230400)            0         \n",
      "                                                                 \n",
      " dense_1 (Dense)             (None, 50)                11520050  \n",
      "                                                                 \n",
      " dense_2 (Dense)             (None, 2)                 102       \n",
      "                                                                 \n",
      "=================================================================\n",
      "Total params: 11,705,852\n",
      "Trainable params: 11,705,852\n",
      "Non-trainable params: 0\n",
      "_________________________________________________________________\n"
     ]
    }
   ],
   "source": [
    "model.summary()"
   ]
  },
  {
   "cell_type": "code",
   "execution_count": null,
   "id": "06503522",
   "metadata": {},
   "outputs": [],
   "source": [
    "# 0 indicates give more sparcity to our dataset"
   ]
  },
  {
   "cell_type": "code",
   "execution_count": null,
   "id": "b72d43b2",
   "metadata": {},
   "outputs": [
    {
     "name": "stderr",
     "output_type": "stream",
     "text": [
      "C:\\Users\\SSS\\AppData\\Local\\Temp\\ipykernel_5320\\3903969976.py:1: UserWarning: `Model.fit_generator` is deprecated and will be removed in a future version. Please use `Model.fit`, which supports generators.\n",
      "  model.fit_generator(train_g,  # at training take image and generate image ie augmentation image,this generator\n"
     ]
    },
    {
     "name": "stdout",
     "output_type": "stream",
     "text": [
      "Epoch 1/3\n",
      " 15/312 [>.............................] - ETA: 1:08:20 - loss: 1.4456 - accuracy: 0.5708"
     ]
    }
   ],
   "source": [
    "model.fit_generator(train_g,  # at training take image and generate image ie augmentation image,this generator \n",
    "steps_per_epoch=5000//16,  # train size//batch size  ie 312 step to complete one epoch\n",
    "epochs=3,  # if epochs more, more information we can extract\n",
    "validation_data=validation_gen,\n",
    "validation_steps=2553//16)"
   ]
  },
  {
   "cell_type": "code",
   "execution_count": null,
   "id": "882189b6",
   "metadata": {},
   "outputs": [],
   "source": [
    "# in new version no need to give fit_generator"
   ]
  }
 ],
 "metadata": {
  "kernelspec": {
   "display_name": "Python 3 (ipykernel)",
   "language": "python",
   "name": "python3"
  },
  "language_info": {
   "codemirror_mode": {
    "name": "ipython",
    "version": 3
   },
   "file_extension": ".py",
   "mimetype": "text/x-python",
   "name": "python",
   "nbconvert_exporter": "python",
   "pygments_lexer": "ipython3",
   "version": "3.9.13"
  }
 },
 "nbformat": 4,
 "nbformat_minor": 5
}
