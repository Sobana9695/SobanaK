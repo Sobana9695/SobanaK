{
 "cells": [
  {
   "cell_type": "code",
   "execution_count": 1,
   "id": "8ed492c0",
   "metadata": {},
   "outputs": [],
   "source": [
    "import pandas as pd\n",
    "import numpy as np\n",
    "import matplotlib.pyplot as plt"
   ]
  },
  {
   "cell_type": "code",
   "execution_count": 2,
   "id": "e2b7079e",
   "metadata": {},
   "outputs": [],
   "source": [
    "data=pd.read_csv(r\"C:\\Users\\LENOVO\\Desktop\\seeds.csv\")"
   ]
  },
  {
   "cell_type": "code",
   "execution_count": 3,
   "id": "750aa131",
   "metadata": {},
   "outputs": [
    {
     "data": {
      "text/html": [
       "<div>\n",
       "<style scoped>\n",
       "    .dataframe tbody tr th:only-of-type {\n",
       "        vertical-align: middle;\n",
       "    }\n",
       "\n",
       "    .dataframe tbody tr th {\n",
       "        vertical-align: top;\n",
       "    }\n",
       "\n",
       "    .dataframe thead th {\n",
       "        text-align: right;\n",
       "    }\n",
       "</style>\n",
       "<table border=\"1\" class=\"dataframe\">\n",
       "  <thead>\n",
       "    <tr style=\"text-align: right;\">\n",
       "      <th></th>\n",
       "      <th>Area</th>\n",
       "      <th>Perimeter</th>\n",
       "      <th>Compactness</th>\n",
       "      <th>Kernel.Length</th>\n",
       "      <th>Kernel.Width</th>\n",
       "      <th>Asymmetry.Coeff</th>\n",
       "      <th>Kernel.Groove</th>\n",
       "      <th>Type</th>\n",
       "    </tr>\n",
       "  </thead>\n",
       "  <tbody>\n",
       "    <tr>\n",
       "      <th>0</th>\n",
       "      <td>15.26</td>\n",
       "      <td>14.84</td>\n",
       "      <td>0.8710</td>\n",
       "      <td>5.763</td>\n",
       "      <td>3.312</td>\n",
       "      <td>2.221</td>\n",
       "      <td>5.220</td>\n",
       "      <td>1</td>\n",
       "    </tr>\n",
       "    <tr>\n",
       "      <th>1</th>\n",
       "      <td>14.88</td>\n",
       "      <td>14.57</td>\n",
       "      <td>0.8811</td>\n",
       "      <td>5.554</td>\n",
       "      <td>3.333</td>\n",
       "      <td>1.018</td>\n",
       "      <td>4.956</td>\n",
       "      <td>1</td>\n",
       "    </tr>\n",
       "    <tr>\n",
       "      <th>2</th>\n",
       "      <td>14.29</td>\n",
       "      <td>14.09</td>\n",
       "      <td>0.9050</td>\n",
       "      <td>5.291</td>\n",
       "      <td>3.337</td>\n",
       "      <td>2.699</td>\n",
       "      <td>4.825</td>\n",
       "      <td>1</td>\n",
       "    </tr>\n",
       "    <tr>\n",
       "      <th>3</th>\n",
       "      <td>13.84</td>\n",
       "      <td>13.94</td>\n",
       "      <td>0.8955</td>\n",
       "      <td>5.324</td>\n",
       "      <td>3.379</td>\n",
       "      <td>2.259</td>\n",
       "      <td>4.805</td>\n",
       "      <td>1</td>\n",
       "    </tr>\n",
       "    <tr>\n",
       "      <th>4</th>\n",
       "      <td>16.14</td>\n",
       "      <td>14.99</td>\n",
       "      <td>0.9034</td>\n",
       "      <td>5.658</td>\n",
       "      <td>3.562</td>\n",
       "      <td>1.355</td>\n",
       "      <td>5.175</td>\n",
       "      <td>1</td>\n",
       "    </tr>\n",
       "  </tbody>\n",
       "</table>\n",
       "</div>"
      ],
      "text/plain": [
       "    Area  Perimeter  Compactness  Kernel.Length  Kernel.Width  \\\n",
       "0  15.26      14.84       0.8710          5.763         3.312   \n",
       "1  14.88      14.57       0.8811          5.554         3.333   \n",
       "2  14.29      14.09       0.9050          5.291         3.337   \n",
       "3  13.84      13.94       0.8955          5.324         3.379   \n",
       "4  16.14      14.99       0.9034          5.658         3.562   \n",
       "\n",
       "   Asymmetry.Coeff  Kernel.Groove  Type  \n",
       "0            2.221          5.220     1  \n",
       "1            1.018          4.956     1  \n",
       "2            2.699          4.825     1  \n",
       "3            2.259          4.805     1  \n",
       "4            1.355          5.175     1  "
      ]
     },
     "execution_count": 3,
     "metadata": {},
     "output_type": "execute_result"
    }
   ],
   "source": [
    "data.head()"
   ]
  },
  {
   "cell_type": "code",
   "execution_count": 4,
   "id": "ead82889",
   "metadata": {},
   "outputs": [
    {
     "data": {
      "text/plain": [
       "(199, 8)"
      ]
     },
     "execution_count": 4,
     "metadata": {},
     "output_type": "execute_result"
    }
   ],
   "source": [
    "data.shape"
   ]
  },
  {
   "cell_type": "code",
   "execution_count": 5,
   "id": "77d7dcb3",
   "metadata": {},
   "outputs": [],
   "source": [
    "f_v=data.iloc[:,0:7]"
   ]
  },
  {
   "cell_type": "code",
   "execution_count": 6,
   "id": "13d68198",
   "metadata": {},
   "outputs": [],
   "source": [
    "c_l=data[[\"Type\"]]"
   ]
  },
  {
   "cell_type": "code",
   "execution_count": 7,
   "id": "b3151e35",
   "metadata": {},
   "outputs": [],
   "source": [
    "from sklearn.model_selection import train_test_split"
   ]
  },
  {
   "cell_type": "code",
   "execution_count": 8,
   "id": "b28f3c69",
   "metadata": {},
   "outputs": [],
   "source": [
    "x_train,x_test,y_train,y_test=train_test_split(f_v,c_l,test_size=0.2)"
   ]
  },
  {
   "cell_type": "code",
   "execution_count": 9,
   "id": "84680525",
   "metadata": {},
   "outputs": [],
   "source": [
    "from sklearn.preprocessing import StandardScaler\n",
    "std=StandardScaler()\n",
    "x_trains=std.fit_transform(x_train)"
   ]
  },
  {
   "cell_type": "code",
   "execution_count": 10,
   "id": "516f0eae",
   "metadata": {},
   "outputs": [],
   "source": [
    "import keras.utils"
   ]
  },
  {
   "cell_type": "code",
   "execution_count": 11,
   "id": "362fba36",
   "metadata": {},
   "outputs": [],
   "source": [
    "y_trainf=keras.utils.to_categorical(y_train,dtype='int')[:,1:]"
   ]
  },
  {
   "cell_type": "code",
   "execution_count": 12,
   "id": "7b4bdfa8",
   "metadata": {},
   "outputs": [],
   "source": [
    "from keras import Sequential\n",
    "from keras.layers import Dense,Dropout,BatchNormalization"
   ]
  },
  {
   "cell_type": "code",
   "execution_count": 13,
   "id": "c722ccad",
   "metadata": {},
   "outputs": [],
   "source": [
    "import keras_tuner # pip install keras-tuner"
   ]
  },
  {
   "cell_type": "code",
   "execution_count": 14,
   "id": "f8e3c869",
   "metadata": {},
   "outputs": [],
   "source": [
    "model=Sequential()\n",
    "model.add(Dense(10,activation=\"relu\",input_dim=7))\n",
    "model.add(Dense(7,activation=\"relu\"))\n",
    "model.add(Dense(3,activation=\"softmax\"))"
   ]
  },
  {
   "cell_type": "code",
   "execution_count": 28,
   "id": "9ae6d09d",
   "metadata": {},
   "outputs": [
    {
     "name": "stdout",
     "output_type": "stream",
     "text": [
      "Model: \"sequential_1\"\n",
      "_________________________________________________________________\n",
      " Layer (type)                Output Shape              Param #   \n",
      "=================================================================\n",
      " dense_2 (Dense)             (None, 10)                80        \n",
      "                                                                 \n",
      " dense_3 (Dense)             (None, 7)                 77        \n",
      "                                                                 \n",
      " dense_4 (Dense)             (None, 3)                 24        \n",
      "                                                                 \n",
      "=================================================================\n",
      "Total params: 181\n",
      "Trainable params: 181\n",
      "Non-trainable params: 0\n",
      "_________________________________________________________________\n"
     ]
    }
   ],
   "source": [
    "model.summary()"
   ]
  },
  {
   "cell_type": "code",
   "execution_count": 29,
   "id": "d5b6ea07",
   "metadata": {},
   "outputs": [],
   "source": [
    "model.compile(optimizer=\"adam\",loss=\"categorical_crossentropy\",metrics=[\"accuracy\"])"
   ]
  },
  {
   "cell_type": "code",
   "execution_count": 30,
   "id": "f52ae7b6",
   "metadata": {},
   "outputs": [
    {
     "name": "stdout",
     "output_type": "stream",
     "text": [
      "Epoch 1/5\n",
      "13/13 [==============================] - 4s 130ms/step - loss: 0.9154 - accuracy: 0.3858 - val_loss: 0.7481 - val_accuracy: 0.5625\n",
      "Epoch 2/5\n",
      "13/13 [==============================] - 0s 22ms/step - loss: 0.8718 - accuracy: 0.5039 - val_loss: 0.7215 - val_accuracy: 0.6250\n",
      "Epoch 3/5\n",
      "13/13 [==============================] - 0s 19ms/step - loss: 0.8411 - accuracy: 0.5827 - val_loss: 0.7019 - val_accuracy: 0.6250\n",
      "Epoch 4/5\n",
      "13/13 [==============================] - 1s 63ms/step - loss: 0.8162 - accuracy: 0.5984 - val_loss: 0.6855 - val_accuracy: 0.6250\n",
      "Epoch 5/5\n",
      "13/13 [==============================] - 0s 37ms/step - loss: 0.7961 - accuracy: 0.5906 - val_loss: 0.6732 - val_accuracy: 0.6250\n"
     ]
    },
    {
     "data": {
      "text/plain": [
       "<keras.callbacks.History at 0x1da65e3e520>"
      ]
     },
     "execution_count": 30,
     "metadata": {},
     "output_type": "execute_result"
    }
   ],
   "source": [
    "model.fit(x_trains,y_trainf,batch_size=10,epochs=5,validation_split=0.2)"
   ]
  },
  {
   "cell_type": "code",
   "execution_count": 65,
   "id": "02aedf9b",
   "metadata": {},
   "outputs": [],
   "source": [
    "def models(ob1):\n",
    "    model=Sequential()\n",
    "    \n",
    "    unit=ob1.Int(\"neurons\",1,30)\n",
    "    unit2=ob1.Int(\"neurons2\",1,30)\n",
    "    model.add(Dense(unit,activation=ob1.Choice(\"act1\",values=[\"relu\",\"sigmoid\",\"tanh\"]),input_dim=7))\n",
    "    model.add(Dropout(rate=ob1.Choice(\"dr_rate1\",values=[0.1,0.2,0.3,0.4,0.5,0.6,0.7,0.8,0.9])))\n",
    "    model.add(Dense(unit2,activation=ob1.Choice(\"act2\",values=[\"relu\",\"sigmoid\",\"tanh\"])))\n",
    "    model.add(Dropout(rate=ob1.Choice(\"dr_rate2\",values=[0.1,0.2,0.3,0.4,0.5,0.6,0.7,0.8,0.9])))\n",
    "    model.add(Dense(3,activation=\"softmax\"))\n",
    "    \n",
    "    model.compile(optimizer=ob1.Choice(\"opt\",values=[\"rmsprop\",\"adam\",\"adagrad\",\"sgd\",\"gd\"]),loss=\"categorical_crossentropy\",metrics=[\"accuracy\"])\n",
    "    \n",
    "    return model\n",
    "    "
   ]
  },
  {
   "cell_type": "code",
   "execution_count": 68,
   "id": "9032f529",
   "metadata": {},
   "outputs": [],
   "source": [
    "kt=keras_tuner.RandomSearch(models,objective=\"val_accuracy\",max_trials=4,directory=r\"C:\\Users\\LENOVO\\Desktop\\deeplearning7\")"
   ]
  },
  {
   "cell_type": "code",
   "execution_count": 69,
   "id": "0ff8e3a2",
   "metadata": {},
   "outputs": [
    {
     "name": "stdout",
     "output_type": "stream",
     "text": [
      "Trial 4 Complete [00h 00m 01s]\n",
      "\n",
      "Best val_accuracy So Far: 0.4779874086380005\n",
      "Total elapsed time: 00h 00m 14s\n",
      "INFO:tensorflow:Oracle triggered exit\n"
     ]
    }
   ],
   "source": [
    "kt.search(x_trains,y_trainf,epochs=6,validation_data=(x_trains,y_trainf))"
   ]
  },
  {
   "cell_type": "code",
   "execution_count": 70,
   "id": "f986247a",
   "metadata": {},
   "outputs": [
    {
     "data": {
      "text/plain": [
       "{'neurons': 21,\n",
       " 'neurons2': 10,\n",
       " 'act1': 'tanh',\n",
       " 'dr_rate1': 0.7,\n",
       " 'act2': 'tanh',\n",
       " 'dr_rate2': 0.7,\n",
       " 'opt': 'adagrad'}"
      ]
     },
     "execution_count": 70,
     "metadata": {},
     "output_type": "execute_result"
    }
   ],
   "source": [
    "kt.get_best_hyperparameters()[0].values"
   ]
  },
  {
   "cell_type": "code",
   "execution_count": 71,
   "id": "6b799ef3",
   "metadata": {},
   "outputs": [],
   "source": [
    "modelf=kt.get_best_models(num_models=1)[0]"
   ]
  },
  {
   "cell_type": "code",
   "execution_count": 72,
   "id": "8dd63287",
   "metadata": {},
   "outputs": [
    {
     "name": "stdout",
     "output_type": "stream",
     "text": [
      "Model: \"sequential\"\n",
      "_________________________________________________________________\n",
      " Layer (type)                Output Shape              Param #   \n",
      "=================================================================\n",
      " dense (Dense)               (None, 21)                168       \n",
      "                                                                 \n",
      " dropout (Dropout)           (None, 21)                0         \n",
      "                                                                 \n",
      " dense_1 (Dense)             (None, 10)                220       \n",
      "                                                                 \n",
      " dropout_1 (Dropout)         (None, 10)                0         \n",
      "                                                                 \n",
      " dense_2 (Dense)             (None, 3)                 33        \n",
      "                                                                 \n",
      "=================================================================\n",
      "Total params: 421\n",
      "Trainable params: 421\n",
      "Non-trainable params: 0\n",
      "_________________________________________________________________\n"
     ]
    }
   ],
   "source": [
    "modelf.summary()"
   ]
  },
  {
   "cell_type": "code",
   "execution_count": 73,
   "id": "5e808fda",
   "metadata": {},
   "outputs": [
    {
     "name": "stdout",
     "output_type": "stream",
     "text": [
      "Epoch 7/20\n",
      "7/7 [==============================] - 2s 118ms/step - loss: 1.3523 - accuracy: 0.3858 - val_loss: 0.9382 - val_accuracy: 0.5625\n",
      "Epoch 8/20\n",
      "7/7 [==============================] - 0s 34ms/step - loss: 1.3199 - accuracy: 0.4724 - val_loss: 0.9326 - val_accuracy: 0.5625\n",
      "Epoch 9/20\n",
      "7/7 [==============================] - 0s 26ms/step - loss: 1.4000 - accuracy: 0.3622 - val_loss: 0.9262 - val_accuracy: 0.5625\n",
      "Epoch 10/20\n",
      "7/7 [==============================] - 0s 43ms/step - loss: 1.3808 - accuracy: 0.3780 - val_loss: 0.9199 - val_accuracy: 0.5625\n",
      "Epoch 11/20\n",
      "7/7 [==============================] - 1s 84ms/step - loss: 1.2370 - accuracy: 0.4488 - val_loss: 0.9130 - val_accuracy: 0.5625\n",
      "Epoch 12/20\n",
      "7/7 [==============================] - 0s 30ms/step - loss: 1.4633 - accuracy: 0.2913 - val_loss: 0.9081 - val_accuracy: 0.5625\n",
      "Epoch 13/20\n",
      "7/7 [==============================] - 1s 113ms/step - loss: 1.5169 - accuracy: 0.3071 - val_loss: 0.9024 - val_accuracy: 0.5625\n",
      "Epoch 14/20\n",
      "7/7 [==============================] - 0s 65ms/step - loss: 1.3038 - accuracy: 0.3701 - val_loss: 0.8984 - val_accuracy: 0.5625\n",
      "Epoch 15/20\n",
      "7/7 [==============================] - 1s 139ms/step - loss: 1.3976 - accuracy: 0.3622 - val_loss: 0.8945 - val_accuracy: 0.5625\n",
      "Epoch 16/20\n",
      "7/7 [==============================] - 0s 30ms/step - loss: 1.2594 - accuracy: 0.4961 - val_loss: 0.8900 - val_accuracy: 0.5625\n",
      "Epoch 17/20\n",
      "7/7 [==============================] - 0s 50ms/step - loss: 1.4236 - accuracy: 0.4173 - val_loss: 0.8853 - val_accuracy: 0.5625\n",
      "Epoch 18/20\n",
      "7/7 [==============================] - 1s 98ms/step - loss: 1.3218 - accuracy: 0.4252 - val_loss: 0.8812 - val_accuracy: 0.5625\n",
      "Epoch 19/20\n",
      "7/7 [==============================] - 0s 36ms/step - loss: 1.2539 - accuracy: 0.4331 - val_loss: 0.8771 - val_accuracy: 0.5625\n",
      "Epoch 20/20\n",
      "7/7 [==============================] - 1s 126ms/step - loss: 1.2886 - accuracy: 0.3780 - val_loss: 0.8735 - val_accuracy: 0.5625\n"
     ]
    },
    {
     "data": {
      "text/plain": [
       "<keras.callbacks.History at 0x16a33f62a60>"
      ]
     },
     "execution_count": 73,
     "metadata": {},
     "output_type": "execute_result"
    }
   ],
   "source": [
    "modelf.fit(x_trains,y_trainf,batch_size=20,epochs=20,initial_epoch=6,validation_split=0.2)"
   ]
  },
  {
   "cell_type": "code",
   "execution_count": 101,
   "id": "c166d11e",
   "metadata": {},
   "outputs": [],
   "source": [
    "def models(ob1):\n",
    "    model=Sequential()\n",
    "    x=0\n",
    "    for i in range(ob1.Int(\"layers\",2,10)):\n",
    "        if x==0:\n",
    "            model.add(Dense(ob1.Int(\"neuron\"+str(x),1,10),activation=\"relu\",input_dim=7))\n",
    "        else:\n",
    "            model.add(Dense(ob1.Int(\"neuron\"+str(x),1,10),activation=\"relu\"))\n",
    "        x=x+1\n",
    "\n",
    "    \n",
    "    model.add(Dense(3,activation=\"softmax\"))\n",
    "    model.compile(optimizer=ob1.Choice(\"opt\",values=[\"rmsprop\",\"adam\",\"adagrad\",\"sgd\",\"gd\"]),loss=\"categorical_crossentropy\",metrics=[\"accuracy\"])\n",
    "    \n",
    "    return model"
   ]
  },
  {
   "cell_type": "code",
   "execution_count": 102,
   "id": "13d57a18",
   "metadata": {},
   "outputs": [],
   "source": [
    "kt=keras_tuner.RandomSearch(models,objective=\"val_accuracy\",max_trials=4,directory=r\"C:\\Users\\LENOVO\\Desktop\\deeplearning12\")"
   ]
  },
  {
   "cell_type": "code",
   "execution_count": 103,
   "id": "a5dd917e",
   "metadata": {},
   "outputs": [
    {
     "name": "stdout",
     "output_type": "stream",
     "text": [
      "Trial 4 Complete [00h 00m 06s]\n",
      "val_accuracy: 0.3836477994918823\n",
      "\n",
      "Best val_accuracy So Far: 0.3836477994918823\n",
      "Total elapsed time: 00h 00m 19s\n",
      "INFO:tensorflow:Oracle triggered exit\n"
     ]
    }
   ],
   "source": [
    "kt.search(x_trains,y_trainf,epochs=6,validation_data=(x_trains,y_trainf))"
   ]
  },
  {
   "cell_type": "code",
   "execution_count": 104,
   "id": "8fac711b",
   "metadata": {},
   "outputs": [
    {
     "data": {
      "text/plain": [
       "{'layers': 3, 'neuron0': 1, 'neuron1': 10, 'opt': 'adagrad', 'neuron2': 1}"
      ]
     },
     "execution_count": 104,
     "metadata": {},
     "output_type": "execute_result"
    }
   ],
   "source": [
    "kt.get_best_hyperparameters()[0].values"
   ]
  },
  {
   "cell_type": "code",
   "execution_count": 87,
   "id": "ce815a7e",
   "metadata": {},
   "outputs": [
    {
     "name": "stdout",
     "output_type": "stream",
     "text": [
      "WARNING:tensorflow:Detecting that an object or model or tf.train.Checkpoint is being deleted with unrestored values. See the following logs for the specific values in question. To silence these warnings, use `status.expect_partial()`. See https://www.tensorflow.org/api_docs/python/tf/train/Checkpoint#restorefor details about the status object returned by the restore function.\n",
      "WARNING:tensorflow:Value in checkpoint could not be found in the restored object: (root).optimizer._variables.1\n",
      "WARNING:tensorflow:Value in checkpoint could not be found in the restored object: (root).optimizer._variables.2\n",
      "WARNING:tensorflow:Value in checkpoint could not be found in the restored object: (root).optimizer._variables.3\n",
      "WARNING:tensorflow:Value in checkpoint could not be found in the restored object: (root).optimizer._variables.4\n",
      "WARNING:tensorflow:Value in checkpoint could not be found in the restored object: (root).optimizer._variables.5\n",
      "WARNING:tensorflow:Value in checkpoint could not be found in the restored object: (root).optimizer._variables.6\n",
      "WARNING:tensorflow:Value in checkpoint could not be found in the restored object: (root).optimizer._variables.7\n",
      "WARNING:tensorflow:Value in checkpoint could not be found in the restored object: (root).optimizer._variables.8\n"
     ]
    }
   ],
   "source": [
    "modelf=kt.get_best_models(num_models=1)[0]"
   ]
  },
  {
   "cell_type": "code",
   "execution_count": 88,
   "id": "115f8ad0",
   "metadata": {},
   "outputs": [
    {
     "name": "stdout",
     "output_type": "stream",
     "text": [
      "Model: \"sequential\"\n",
      "_________________________________________________________________\n",
      " Layer (type)                Output Shape              Param #   \n",
      "=================================================================\n",
      " dense (Dense)               (None, 6)                 48        \n",
      "                                                                 \n",
      " dense_1 (Dense)             (None, 8)                 56        \n",
      "                                                                 \n",
      " dense_2 (Dense)             (None, 8)                 72        \n",
      "                                                                 \n",
      " dense_3 (Dense)             (None, 8)                 72        \n",
      "                                                                 \n",
      " dense_4 (Dense)             (None, 8)                 72        \n",
      "                                                                 \n",
      " dense_5 (Dense)             (None, 3)                 27        \n",
      "                                                                 \n",
      "=================================================================\n",
      "Total params: 347\n",
      "Trainable params: 347\n",
      "Non-trainable params: 0\n",
      "_________________________________________________________________\n"
     ]
    }
   ],
   "source": [
    "modelf.summary()"
   ]
  },
  {
   "cell_type": "code",
   "execution_count": null,
   "id": "557b1285",
   "metadata": {},
   "outputs": [],
   "source": []
  },
  {
   "cell_type": "code",
   "execution_count": null,
   "id": "b905950e",
   "metadata": {},
   "outputs": [],
   "source": []
  }
 ],
 "metadata": {
  "kernelspec": {
   "display_name": "Python 3 (ipykernel)",
   "language": "python",
   "name": "python3"
  },
  "language_info": {
   "codemirror_mode": {
    "name": "ipython",
    "version": 3
   },
   "file_extension": ".py",
   "mimetype": "text/x-python",
   "name": "python",
   "nbconvert_exporter": "python",
   "pygments_lexer": "ipython3",
   "version": "3.9.13"
  }
 },
 "nbformat": 4,
 "nbformat_minor": 5
}
